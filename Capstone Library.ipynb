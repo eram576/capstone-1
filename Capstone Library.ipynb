{
 "cells": [
  {
   "cell_type": "code",
   "execution_count": null,
   "metadata": {},
   "outputs": [],
   "source": [
    "import pandas as pd\n",
    "import numpy as np\n",
    "import re\n",
    "import string\n",
    "from bs4 import BeautifulSoup\n",
    "from ast import literal_eval\n",
    "import heapq\n",
    "import seaborn as sns"
   ]
  },
  {
   "cell_type": "code",
   "execution_count": null,
   "metadata": {},
   "outputs": [],
   "source": [
    "import nltk\n",
    "from nltk.stem import PorterStemmer, WordNetLemmatizer\n",
    "from gensim.models import Word2Vec\n",
    "from sklearn.decomposition import PCA\n",
    "from matplotlib import pyplot\n",
    "from nltk.tokenize import sent_tokenize"
   ]
  },
  {
   "cell_type": "code",
   "execution_count": null,
   "metadata": {},
   "outputs": [],
   "source": [
    "#CF_clean['clean_jd'] = CF_clean['clean_jd'].apply(lambda x: x.replace('\\n', '.'))"
   ]
  },
  {
   "cell_type": "code",
   "execution_count": null,
   "metadata": {},
   "outputs": [],
   "source": [
    "#CF_clean['clean_jd'] = CF_clean['clean_jd'].apply(lambda x: re.sub(r'\\s+', ' ',x))"
   ]
  },
  {
   "cell_type": "markdown",
   "metadata": {},
   "source": [
    "# BT4222 CODES!! THANKS VALLI :D"
   ]
  },
  {
   "cell_type": "code",
   "execution_count": null,
   "metadata": {},
   "outputs": [],
   "source": [
    "#this code is to remove the numbers in the types just need to convert the types col into str first then \n",
    "#you can use this :)\n",
    "\n",
    "text_posts = [] #this is just to collect those posts with no types to be used as test data later can remove this if we're not doing that \n",
    "for i in range(0, len(data)):\n",
    "    if (any(char.isdigit() for char in data[\"Types\"][i])):\n",
    "        text_posts.append(data[\"Posts\"][i])\n",
    "        data.drop(i, inplace=True)\n",
    "    else:\n",
    "        continue"
   ]
  },
  {
   "cell_type": "code",
   "execution_count": null,
   "metadata": {},
   "outputs": [],
   "source": [
    "#to get rid of bullets\n",
    "SFW_16['clean_docs'] = SFW_16['clean_docs'].apply(lambda x: x.replace('•', ' '))"
   ]
  },
  {
   "cell_type": "code",
   "execution_count": null,
   "metadata": {},
   "outputs": [],
   "source": [
    "def replace_all(text, mydict):\n",
    "    for gb, us in mydict.items():\n",
    "        text = text.replace(us, gb)\n",
    "    return text"
   ]
  },
  {
   "cell_type": "code",
   "execution_count": null,
   "metadata": {},
   "outputs": [],
   "source": [
    "us2gb = {'accessorize': 'accessorise', 'accessorized': 'accessorised', 'accessorizes': 'accessorises', 'accessorizing': 'accessorising',\n",
    " 'acclimatization': 'acclimatisation','acclimatize': 'acclimatise','acclimatized': 'acclimatised','acclimatizes': 'acclimatises','acclimatizing': 'acclimatising',\n",
    " 'accouterments': 'accoutrements','aerogram': 'aerogramme','aerograms': 'aerogrammes','aggrandizement': 'aggrandisement',\n",
    " 'aging': 'ageing','agonize': 'agonise','agonized': 'agonised','agonizes': 'agonises','agonizing': 'agonising',\n",
    " 'agonizingly': 'agonisingly','airplane': 'aeroplane','airplanes ': 'aeroplanes ','almanac': 'almanack','almanacs': 'almanacks','aluminum': 'aluminium',\n",
    " 'amortizable': 'amortisable','amortization': 'amortisation','amortizations': 'amortisations','amortize': 'amortise',\n",
    " 'amortized': 'amortised','amortizes': 'amortises','amortizing': 'amortising','amphitheater': 'amphitheatre',\n",
    " 'amphitheaters': 'amphitheatres','analog': 'analogue','analogs': 'analogues','analyze': 'analyse','analyzed': 'analysed',\n",
    " 'analyzes': 'analyses','analyzing': 'analysing','anemia': 'anaemia','anemic': 'anaemic','anesthesia': 'anaesthesia',\n",
    " 'anesthetic': 'anaesthetic','anesthetics': 'anaesthetics','anesthetist': 'anaesthetist','anesthetists': 'anaesthetists','anesthetize': 'anaesthetize',\n",
    " 'anesthetized': 'anaesthetized','anesthetizes': 'anaesthetizes','anesthetizing': 'anaesthetizing','anglicize': 'anglicise',\n",
    " 'anglicized': 'anglicised','anglicizes': 'anglicises','anglicizing': 'anglicising','annualized': 'annualised',\n",
    " 'antagonize': 'antagonise','antagonized': 'antagonised','antagonizes': 'antagonises','antagonizing': 'antagonising',\n",
    " 'apologize': 'apologise','apologized': 'apologised','apologizes': 'apologises','apologizing': 'apologising',\n",
    " 'appall': 'appal','appalls': 'appals','appetizer': 'appetiser','appetizers': 'appetisers','appetizing': 'appetising',\n",
    " 'appetizingly': 'appetisingly','arbor': 'arbour','arbors': 'arbours','archeological': 'archaeological','archeologically': 'archaeologically',\n",
    " 'archeologist': 'archaeologist','archeologists': 'archaeologists','archeology': 'archaeology','ardor': 'ardour',\n",
    " 'armor': 'armour','armored': 'armoured','armorer': 'armourer','armorers': 'armourers','armories': 'armouries','armory': 'armoury',\n",
    " 'artifact': 'artefact',\n",
    " 'artifacts': 'artefacts',\n",
    " 'authorize': 'authorise',\n",
    " 'authorized': 'authorised',\n",
    " 'authorizes': 'authorises',\n",
    " 'authorizing': 'authorising',\n",
    " 'ax': 'axe',\n",
    " 'backpedaled': 'backpedalled',\n",
    " 'backpedaling': 'backpedalling',\n",
    " 'balk': 'baulk',\n",
    " 'balked': 'baulked',\n",
    " 'balking': 'baulking',\n",
    " 'balks': 'baulks',\n",
    " 'banister': 'bannister',\n",
    " 'banisters': 'bannisters',\n",
    " 'baptize': 'baptise',\n",
    " 'baptized': 'baptised',\n",
    " 'baptizes': 'baptises',\n",
    " 'baptizing': 'baptising',\n",
    " 'bastardize': 'bastardise',\n",
    " 'bastardized': 'bastardised',\n",
    " 'bastardizes': 'bastardises',\n",
    " 'bastardizing': 'bastardising',\n",
    " 'battleax': 'battleaxe',\n",
    " 'bedeviled': 'bedevilled',\n",
    " 'bedeviling': 'bedevilling',\n",
    " 'behavior': 'behaviour',\n",
    " 'behavioral': 'behavioural',\n",
    " 'behaviorism': 'behaviourism',\n",
    " 'behaviorist': 'behaviourist',\n",
    " 'behaviorists': 'behaviourists',\n",
    " 'behaviors': 'behaviours',\n",
    " 'behoove': 'behove',\n",
    " 'behooved': 'behoved',\n",
    " 'behooves': 'behoves',\n",
    " 'bejeweled': 'bejewelled',\n",
    " 'belabor': 'belabour',\n",
    " 'belabored': 'belaboured',\n",
    " 'belaboring': 'belabouring',\n",
    " 'belabors': 'belabours',\n",
    " 'beveled': 'bevelled',\n",
    " 'bevies': 'bevvies',\n",
    " 'bevy': 'bevvy',\n",
    " 'biased': 'biassed',\n",
    " 'biasing': 'biassing',\n",
    " 'binging': 'bingeing',\n",
    " 'bougainvillea': 'bougainvillaea',\n",
    " 'bougainvilleas': 'bougainvillaeas',\n",
    " 'bowdlerize': 'bowdlerise',\n",
    " 'bowdlerized': 'bowdlerised',\n",
    " 'bowdlerizes': 'bowdlerises',\n",
    " 'bowdlerizing': 'bowdlerising',\n",
    " 'breathalyze': 'breathalyse',\n",
    " 'breathalyzed': 'breathalysed',\n",
    " 'breathalyzer': 'breathalyser',\n",
    " 'breathalyzers': 'breathalysers',\n",
    " 'breathalyzes': 'breathalyses',\n",
    " 'breathalyzing': 'breathalysing',\n",
    " 'brutalize': 'brutalise',\n",
    " 'brutalized': 'brutalised',\n",
    " 'brutalizes': 'brutalises',\n",
    " 'brutalizing': 'brutalising',\n",
    " 'busses': 'buses',\n",
    " 'bussing': 'busing',\n",
    " 'caliber': 'calibre',\n",
    " 'calibers': 'calibres',\n",
    " 'caliper': 'calliper',\n",
    " 'calipers': 'callipers',\n",
    " 'calisthenics': 'callisthenics',\n",
    " 'canalize': 'canalise',\n",
    " 'canalized': 'canalised',\n",
    " 'canalizes': 'canalises',\n",
    " 'canalizing': 'canalising',\n",
    " 'cancelation': 'cancellation',\n",
    " 'cancelations': 'cancellations',\n",
    " 'canceled': 'cancelled',\n",
    " 'canceling': 'cancelling',\n",
    " 'candor': 'candour',\n",
    " 'cannibalize': 'cannibalise',\n",
    " 'cannibalized': 'cannibalised',\n",
    " 'cannibalizes': 'cannibalises',\n",
    " 'cannibalizing': 'cannibalising',\n",
    " 'canonize': 'canonise',\n",
    " 'canonized': 'canonised',\n",
    " 'canonizes': 'canonises',\n",
    " 'canonizing': 'canonising',\n",
    " 'capitalize': 'capitalise',\n",
    " 'capitalized': 'capitalised',\n",
    " 'capitalizes': 'capitalises',\n",
    " 'capitalizing': 'capitalising',\n",
    " 'caramelize': 'caramelise',\n",
    " 'caramelized': 'caramelised',\n",
    " 'caramelizes': 'caramelises',\n",
    " 'caramelizing': 'caramelising',\n",
    " 'carbonize': 'carbonise',\n",
    " 'carbonized': 'carbonised',\n",
    " 'carbonizes': 'carbonises',\n",
    " 'carbonizing': 'carbonising',\n",
    " 'caroled': 'carolled',\n",
    " 'caroling': 'carolling',\n",
    " 'catalog': 'catalogue',\n",
    " 'cataloged': 'catalogued',\n",
    " 'cataloging': 'cataloguing',\n",
    " 'catalogs': 'catalogues',\n",
    " 'catalyze': 'catalyse',\n",
    " 'catalyzed': 'catalysed',\n",
    " 'catalyzes': 'catalyses',\n",
    " 'catalyzing': 'catalysing',\n",
    " 'categorize': 'categorise',\n",
    " 'categorized': 'categorised',\n",
    " 'categorizes': 'categorises',\n",
    " 'categorizing': 'categorising',\n",
    " 'cauterize': 'cauterise',\n",
    " 'cauterized': 'cauterised',\n",
    " 'cauterizes': 'cauterises',\n",
    " 'cauterizing': 'cauterising',\n",
    " 'caviled': 'cavilled',\n",
    " 'caviling': 'cavilling',\n",
    " 'center': 'centre',\n",
    " 'centered': 'centred',\n",
    " 'centerfold': 'centrefold',\n",
    " 'centerfolds': 'centrefolds',\n",
    " 'centerpiece': 'centrepiece',\n",
    " 'centerpieces': 'centrepieces',\n",
    " 'centers': 'centres',\n",
    " 'centigram': 'centigramme',\n",
    " 'centigrams': 'centigrammes',\n",
    " 'centiliter': 'centilitre',\n",
    " 'centiliters': 'centilitres',\n",
    " 'centimeter': 'centimetre',\n",
    " 'centimeters': 'centimetres',\n",
    " 'centralize': 'centralise',\n",
    " 'centralized': 'centralised',\n",
    " 'centralizes': 'centralises',\n",
    " 'centralizing': 'centralising',\n",
    " 'cesarean': 'caesarean',\n",
    " 'cesareans': 'caesareans',\n",
    " 'channeled': 'channelled',\n",
    " 'channeling': 'channelling',\n",
    " 'characterize': 'characterise',\n",
    " 'characterized': 'characterised',\n",
    " 'characterizes': 'characterises',\n",
    " 'characterizing': 'characterising',\n",
    " 'check': 'cheque',\n",
    " 'checkbook': 'chequebook',\n",
    " 'checkbooks': 'chequebooks',\n",
    " 'checkered': 'chequered',\n",
    " 'checks': 'cheques',\n",
    " 'chili': 'chilli',\n",
    " 'chimera': 'chimaera',\n",
    " 'chimeras': 'chimaeras',\n",
    " 'chiseled': 'chiselled',\n",
    " 'chiseling': 'chiselling',\n",
    " 'cipher': 'cypher',\n",
    " 'ciphers': 'cyphers',\n",
    " 'circularize': 'circularise',\n",
    " 'circularized': 'circularised',\n",
    " 'circularizes': 'circularises',\n",
    " 'circularizing': 'circularising',\n",
    " 'civilize': 'civilise',\n",
    " 'civilized': 'civilised',\n",
    " 'civilizes': 'civilises',\n",
    " 'civilizing': 'civilising',\n",
    " 'clamor': 'clamour',\n",
    " 'clamored': 'clamoured',\n",
    " 'clamoring': 'clamouring',\n",
    " 'clamors': 'clamours',\n",
    " 'clangor': 'clangour',\n",
    " 'clarinetist': 'clarinettist',\n",
    " 'clarinetists': 'clarinettists',\n",
    " 'collectivize': 'collectivise',\n",
    " 'collectivized': 'collectivised',\n",
    " 'collectivizes': 'collectivises',\n",
    " 'collectivizing': 'collectivising',\n",
    " 'colonization': 'colonisation',\n",
    " 'colonize': 'colonise',\n",
    " 'colonized': 'colonised',\n",
    " 'colonizer': 'coloniser',\n",
    " 'colonizers': 'colonisers',\n",
    " 'colonizes': 'colonises',\n",
    " 'colonizing': 'colonising',\n",
    " 'color': 'colour',\n",
    " 'colorant': 'colourant',\n",
    " 'colorants': 'colourants',\n",
    " 'colored': 'coloured',\n",
    " 'coloreds': 'coloureds',\n",
    " 'colorful': 'colourful',\n",
    " 'colorfully': 'colourfully',\n",
    " 'coloring': 'colouring',\n",
    " 'colorize': 'colourize',\n",
    " 'colorized': 'colourized',\n",
    " 'colorizes': 'colourizes',\n",
    " 'colorizing': 'colourizing',\n",
    " 'colorless': 'colourless',\n",
    " 'colors': 'colours',\n",
    " 'commercialize': 'commercialise',\n",
    " 'commercialized': 'commercialised',\n",
    " 'commercializes': 'commercialises',\n",
    " 'commercializing': 'commercialising',\n",
    " 'compartmentalize': 'compartmentalise',\n",
    " 'compartmentalized': 'compartmentalised',\n",
    " 'compartmentalizes': 'compartmentalises',\n",
    " 'compartmentalizing': 'compartmentalising',\n",
    " 'computerize': 'computerise',\n",
    " 'computerized': 'computerised',\n",
    " 'computerizes': 'computerises',\n",
    " 'computerizing': 'computerising',\n",
    " 'conceptualize': 'conceptualise',\n",
    " 'conceptualized': 'conceptualised',\n",
    " 'conceptualizes': 'conceptualises',\n",
    " 'conceptualizing': 'conceptualising',\n",
    " 'connection': 'connexion',\n",
    " 'connections': 'connexions',\n",
    " 'contextualize': 'contextualise',\n",
    " 'contextualized': 'contextualised',\n",
    " 'contextualizes': 'contextualises',\n",
    " 'contextualizing': 'contextualising',\n",
    " 'councilor': 'councillor',\n",
    " 'councilors': 'councillors',\n",
    " 'counseled': 'counselled',\n",
    " 'counseling': 'counselling',\n",
    " 'counselor': 'counsellor',\n",
    " 'counselors': 'counsellors',\n",
    " 'cozier': 'cosier',\n",
    " 'cozies': 'cosies',\n",
    " 'coziest': 'cosiest',\n",
    " 'cozily': 'cosily',\n",
    " 'coziness': 'cosiness',\n",
    " 'cozy': 'cosy',\n",
    " 'crenelated': 'crenellated',\n",
    " 'criminalize': 'criminalise',\n",
    " 'criminalized': 'criminalised',\n",
    " 'criminalizes': 'criminalises',\n",
    " 'criminalizing': 'criminalising',\n",
    " 'criticize': 'criticise',\n",
    " 'criticized': 'criticised',\n",
    " 'criticizes': 'criticises',\n",
    " 'criticizing': 'criticising',\n",
    " 'crueler': 'crueller',\n",
    " 'cruelest': 'cruellest',\n",
    " 'crystallization': 'crystallisation',\n",
    " 'crystallize': 'crystallise',\n",
    " 'crystallized': 'crystallised',\n",
    " 'crystallizes': 'crystallises',\n",
    " 'crystallizing': 'crystallising',\n",
    " 'cudgeled': 'cudgelled',\n",
    " 'cudgeling': 'cudgelling',\n",
    " 'customize': 'customise',\n",
    " 'customized': 'customised',\n",
    " 'customizes': 'customises',\n",
    " 'customizing': 'customising',\n",
    " 'decentralization': 'decentralisation',\n",
    " 'decentralize': 'decentralise',\n",
    " 'decentralized': 'decentralised',\n",
    " 'decentralizes': 'decentralises',\n",
    " 'decentralizing': 'decentralising',\n",
    " 'decriminalization': 'decriminalisation',\n",
    " 'decriminalize': 'decriminalise',\n",
    " 'decriminalized': 'decriminalised',\n",
    " 'decriminalizes': 'decriminalises',\n",
    " 'decriminalizing': 'decriminalising',\n",
    " 'defense': 'defence',\n",
    " 'defenseless': 'defenceless',\n",
    " 'defenses': 'defences',\n",
    " 'dehumanization': 'dehumanisation',\n",
    " 'dehumanize': 'dehumanise',\n",
    " 'dehumanized': 'dehumanised',\n",
    " 'dehumanizes': 'dehumanises',\n",
    " 'dehumanizing': 'dehumanising',\n",
    " 'demeanor': 'demeanour',\n",
    " 'demilitarization': 'demilitarisation',\n",
    " 'demilitarize': 'demilitarise',\n",
    " 'demilitarized': 'demilitarised',\n",
    " 'demilitarizes': 'demilitarises',\n",
    " 'demilitarizing': 'demilitarising',\n",
    " 'demobilization': 'demobilisation',\n",
    " 'demobilize': 'demobilise',\n",
    " 'demobilized': 'demobilised',\n",
    " 'demobilizes': 'demobilises',\n",
    " 'demobilizing': 'demobilising',\n",
    " 'democratization': 'democratisation',\n",
    " 'democratize': 'democratise',\n",
    " 'democratized': 'democratised',\n",
    " 'democratizes': 'democratises',\n",
    " 'democratizing': 'democratising',\n",
    " 'demonize': 'demonise',\n",
    " 'demonized': 'demonised',\n",
    " 'demonizes': 'demonises',\n",
    " 'demonizing': 'demonising',\n",
    " 'demoralization': 'demoralisation',\n",
    " 'demoralize': 'demoralise',\n",
    " 'demoralized': 'demoralised',\n",
    " 'demoralizes': 'demoralises',\n",
    " 'demoralizing': 'demoralising',\n",
    " 'denationalization': 'denationalisation',\n",
    " 'denationalize': 'denationalise',\n",
    " 'denationalized': 'denationalised',\n",
    " 'denationalizes': 'denationalises',\n",
    " 'denationalizing': 'denationalising',\n",
    " 'deodorize': 'deodorise',\n",
    " 'deodorized': 'deodorised',\n",
    " 'deodorizes': 'deodorises',\n",
    " 'deodorizing': 'deodorising',\n",
    " 'depersonalize': 'depersonalise',\n",
    " 'depersonalized': 'depersonalised',\n",
    " 'depersonalizes': 'depersonalises',\n",
    " 'depersonalizing': 'depersonalising',\n",
    " 'deputize': 'deputise',\n",
    " 'deputized': 'deputised',\n",
    " 'deputizes': 'deputises',\n",
    " 'deputizing': 'deputising',\n",
    " 'desensitization': 'desensitisation',\n",
    " 'desensitize': 'desensitise',\n",
    " 'desensitized': 'desensitised',\n",
    " 'desensitizes': 'desensitises',\n",
    " 'desensitizing': 'desensitising',\n",
    " 'destabilization': 'destabilisation',\n",
    " 'destabilize': 'destabilise',\n",
    " 'destabilized': 'destabilised',\n",
    " 'destabilizes': 'destabilises',\n",
    " 'destabilizing': 'destabilising',\n",
    " 'dialed': 'dialled',\n",
    " 'dialing': 'dialling',\n",
    " 'dialog': 'dialogue',\n",
    " 'dialogs': 'dialogues',\n",
    " 'diarrhea': 'diarrhoea',\n",
    " 'digitize': 'digitise',\n",
    " 'digitized': 'digitised',\n",
    " 'digitizes': 'digitises',\n",
    " 'digitizing': 'digitising',\n",
    " 'discolor': 'discolour',\n",
    " 'discolored': 'discoloured',\n",
    " 'discoloring': 'discolouring',\n",
    " 'discolors': 'discolours',\n",
    " 'disemboweled': 'disembowelled',\n",
    " 'disemboweling': 'disembowelling',\n",
    " 'disfavor': 'disfavour',\n",
    " 'disheveled': 'dishevelled',\n",
    " 'passivizes': 'passivises',\n",
    " 'passivizing': 'passivising',\n",
    " 'pasteurization': 'pasteurisation',\n",
    " 'pasteurize': 'pasteurise',\n",
    " 'pasteurized': 'pasteurised',\n",
    " 'pasteurizes': 'pasteurises',\n",
    " 'pasteurizing': 'pasteurising',\n",
    " 'patronize': 'patronise',\n",
    " 'patronized': 'patronised',\n",
    " 'patronizes': 'patronises',\n",
    " 'patronizing': 'patronising',\n",
    " 'patronizingly': 'patronisingly',\n",
    " 'pedaled': 'pedalled',\n",
    " 'pedaling': 'pedalling',\n",
    " 'pederast': 'paederast',\n",
    " 'pederasts': 'paederasts',\n",
    " 'pedestrianization': 'pedestrianisation',\n",
    " 'pedestrianize': 'pedestrianise',\n",
    " 'pedestrianized': 'pedestrianised',\n",
    " 'pedestrianizes': 'pedestrianises',\n",
    " 'pedestrianizing': 'pedestrianising',\n",
    " 'pediatric': 'paediatric',\n",
    " 'pediatrician': 'paediatrician',\n",
    " 'pediatricians': 'paediatricians',\n",
    " 'pediatrics': 'paediatrics',\n",
    " 'pedophile': 'paedophile',\n",
    " 'pedophiles': 'paedophiles',\n",
    " 'pedophilia': 'paedophilia',\n",
    " 'penalize': 'penalise',\n",
    " 'penalized': 'penalised',\n",
    " 'penalizes': 'penalises',\n",
    " 'penalizing': 'penalising',\n",
    " 'penciled': 'pencilled',\n",
    " 'penciling': 'pencilling',\n",
    " 'personalize': 'personalise',\n",
    " 'personalized': 'personalised',\n",
    " 'personalizes': 'personalises',\n",
    " 'personalizing': 'personalising',\n",
    " 'pharmacopeia': 'pharmacopoeia',\n",
    " 'pharmacopeias': 'pharmacopoeias',\n",
    " 'philosophize': 'philosophise',\n",
    " 'philosophized': 'philosophised',\n",
    " 'philosophizes': 'philosophises',\n",
    " 'philosophizing': 'philosophising',\n",
    " 'phony ': 'phoney ',\n",
    " 'pizzazz': 'pzazz',\n",
    " 'plagiarize': 'plagiarise',\n",
    " 'plagiarized': 'plagiarised',\n",
    " 'plagiarizes': 'plagiarises',\n",
    " 'plagiarizing': 'plagiarising',\n",
    " 'plow': 'plough',\n",
    " 'plowed': 'ploughed',\n",
    " 'plowing': 'ploughing',\n",
    " 'plowman': 'ploughman',\n",
    " 'plowmen': 'ploughmen',\n",
    " 'plows': 'ploughs',\n",
    " 'plowshare': 'ploughshare',\n",
    " 'plowshares': 'ploughshares',\n",
    " 'polarization': 'polarisation',\n",
    " 'polarize': 'polarise',\n",
    " 'polarized': 'polarised',\n",
    " 'polarizes': 'polarises',\n",
    " 'polarizing': 'polarising',\n",
    " 'politicization': 'politicisation',\n",
    " 'politicize': 'politicise',\n",
    " 'politicized': 'politicised',\n",
    " 'politicizes': 'politicises',\n",
    " 'politicizing': 'politicising',\n",
    " 'popularization': 'popularisation',\n",
    " 'popularize': 'popularise',\n",
    " 'popularized': 'popularised',\n",
    " 'popularizes': 'popularises',\n",
    " 'popularizing': 'popularising',\n",
    " 'pouf': 'pouffe',\n",
    " 'poufs': 'pouffes',\n",
    " 'practice': 'practise',\n",
    " 'practiced': 'practised',\n",
    " 'practices': 'practises',\n",
    " 'practicing ': 'practising ',\n",
    " 'presidium': 'praesidium',\n",
    " 'presidiums ': 'praesidiums ',\n",
    " 'pressurization': 'pressurisation',\n",
    " 'pressurize': 'pressurise',\n",
    " 'pressurized': 'pressurised',\n",
    " 'pressurizes': 'pressurises',\n",
    " 'pressurizing': 'pressurising',\n",
    " 'pretense': 'pretence',\n",
    " 'pretenses': 'pretences',\n",
    " 'primeval': 'primaeval',\n",
    " 'prioritization': 'prioritisation',\n",
    " 'prioritize': 'prioritise',\n",
    " 'prioritized': 'prioritised',\n",
    " 'prioritizes': 'prioritises',\n",
    " 'prioritizing': 'prioritising',\n",
    " 'privatization': 'privatisation',\n",
    " 'privatizations': 'privatisations',\n",
    " 'privatize': 'privatise',\n",
    " 'privatized': 'privatised',\n",
    " 'privatizes': 'privatises',\n",
    " 'privatizing': 'privatising',\n",
    " 'professionalization': 'professionalisation',\n",
    " 'professionalize': 'professionalise',\n",
    " 'professionalized': 'professionalised',\n",
    " 'professionalizes': 'professionalises',\n",
    " 'professionalizing': 'professionalising',\n",
    " 'program': 'programme',\n",
    " 'programs': 'programmes',\n",
    " 'prolog': 'prologue',\n",
    " 'prologs': 'prologues',\n",
    " 'propagandize': 'propagandise',\n",
    " 'propagandized': 'propagandised',\n",
    " 'propagandizes': 'propagandises',\n",
    " 'propagandizing': 'propagandising',\n",
    " 'proselytize': 'proselytise',\n",
    " 'proselytized': 'proselytised',\n",
    " 'proselytizer': 'proselytiser',\n",
    " 'proselytizers': 'proselytisers',\n",
    " 'proselytizes': 'proselytises',\n",
    " 'proselytizing': 'proselytising',\n",
    " 'psychoanalyze': 'psychoanalyse',\n",
    " 'psychoanalyzed': 'psychoanalysed',\n",
    " 'psychoanalyzes': 'psychoanalyses',\n",
    " 'psychoanalyzing': 'psychoanalysing',\n",
    " 'publicize': 'publicise',\n",
    " 'publicized': 'publicised',\n",
    " 'publicizes': 'publicises',\n",
    " 'publicizing': 'publicising',\n",
    " 'pulverization': 'pulverisation',\n",
    " 'pulverize': 'pulverise',\n",
    " 'pulverized': 'pulverised',\n",
    " 'pulverizes': 'pulverises',\n",
    " 'pulverizing': 'pulverising',\n",
    " 'pummel': 'pummelled',\n",
    " 'pummeled': 'pummelling',\n",
    " 'quarreled': 'quarrelled',\n",
    " 'quarreling': 'quarrelling',\n",
    " 'radicalize': 'radicalise',\n",
    " 'radicalized': 'radicalised',\n",
    " 'radicalizes': 'radicalises',\n",
    " 'radicalizing': 'radicalising',\n",
    " 'rancor': 'rancour',\n",
    " 'randomize': 'randomise',\n",
    " 'randomized': 'randomised',\n",
    " 'randomizes': 'randomises',\n",
    " 'randomizing': 'randomising',\n",
    " 'rationalization': 'rationalisation',\n",
    " 'rationalizations': 'rationalisations',\n",
    " 'rationalize': 'rationalise',\n",
    " 'rationalized': 'rationalised',\n",
    " 'rationalizes': 'rationalises',\n",
    " 'rationalizing': 'rationalising',\n",
    " 'raveled': 'ravelled',\n",
    " 'raveling': 'ravelling',\n",
    " 'realizable': 'realisable',\n",
    " 'realization': 'realisation',\n",
    " 'realizations': 'realisations',\n",
    " 'realize': 'realise',\n",
    " 'realized': 'realised',\n",
    " 'realizes': 'realises',\n",
    " 'realizing': 'realising',\n",
    " 'recognizable': 'recognisable',\n",
    " 'recognizably': 'recognisably',\n",
    " 'recognizance': 'recognisance',\n",
    " 'recognize': 'recognise',\n",
    " 'recognized': 'recognised',\n",
    " 'recognizes': 'recognises',\n",
    " 'recognizing': 'recognising',\n",
    " 'reconnoiter': 'reconnoitre',\n",
    " 'reconnoitered': 'reconnoitred',\n",
    " 'reconnoitering': 'reconnoitring',\n",
    " 'reconnoiters': 'reconnoitres',\n",
    " 'refueled': 'refuelled',\n",
    " 'refueling': 'refuelling',\n",
    " 'regularization': 'regularisation',\n",
    " 'regularize': 'regularise',\n",
    " 'regularized': 'regularised',\n",
    " 'regularizes': 'regularises',\n",
    " 'regularizing': 'regularising',\n",
    " 'remodeled': 'remodelled',\n",
    " 'remodeling': 'remodelling',\n",
    " 'remold': 'remould',\n",
    " 'remolded': 'remoulded',\n",
    " 'remolding': 'remoulding',\n",
    " 'remolds': 'remoulds',\n",
    " 'reorganization': 'reorganisation',\n",
    " 'reorganizations': 'reorganisations',\n",
    " 'reorganize': 'reorganise',\n",
    " 'reorganized': 'reorganised',\n",
    " 'reorganizes': 'reorganises',\n",
    " 'reorganizing': 'reorganising',\n",
    " 'reveled': 'revelled',\n",
    " 'reveler': 'reveller',\n",
    " 'revelers': 'revellers',\n",
    " 'reveling': 'revelling',\n",
    " 'revitalize': 'revitalise',\n",
    " 'revitalized': 'revitalised',\n",
    " 'revitalizes': 'revitalises',\n",
    " 'revitalizing': 'revitalising',\n",
    " 'revolutionize': 'revolutionise',\n",
    " 'revolutionized': 'revolutionised',\n",
    " 'revolutionizes': 'revolutionises',\n",
    " 'revolutionizing': 'revolutionising',\n",
    " 'rhapsodize': 'rhapsodise',\n",
    " 'rhapsodized': 'rhapsodised',\n",
    " 'rhapsodizes': 'rhapsodises',\n",
    " 'rhapsodizing': 'rhapsodising',\n",
    " 'rigor': 'rigour',\n",
    " 'rigors': 'rigours',\n",
    " 'ritualized': 'ritualised',\n",
    " 'rivaled': 'rivalled',\n",
    " 'rivaling': 'rivalling',\n",
    " 'romanticize': 'romanticise',\n",
    " 'romanticized': 'romanticised',\n",
    " 'romanticizes': 'romanticises',\n",
    " 'romanticizing': 'romanticising',\n",
    " 'rumor': 'rumour',\n",
    " 'rumored': 'rumoured',\n",
    " 'rumors': 'rumours',\n",
    " 'saber': 'sabre',\n",
    " 'sabers': 'sabres',\n",
    " 'saltpeter': 'saltpetre',\n",
    " 'sanitize': 'sanitise',\n",
    " 'sanitized': 'sanitised',\n",
    " 'sanitizes': 'sanitises',\n",
    " 'sanitizing': 'sanitising',\n",
    " 'satirize': 'satirise',\n",
    " 'satirized': 'satirised',\n",
    " 'satirizes': 'satirises',\n",
    " 'satirizing': 'satirising',\n",
    " 'savior': 'saviour',\n",
    " 'saviors': 'saviours',\n",
    " 'savor': 'savour',\n",
    " 'savored': 'savoured',\n",
    " 'savories': 'savouries',\n",
    " 'savoring': 'savouring',\n",
    " 'savors': 'savours',\n",
    " 'savory': 'savoury',\n",
    " 'scandalize': 'scandalise',\n",
    " 'scandalized': 'scandalised',\n",
    " 'scandalizes': 'scandalises',\n",
    " 'scandalizing': 'scandalising',\n",
    " 'scepter': 'sceptre',\n",
    " 'scepters': 'sceptres',\n",
    " 'scrutinize': 'scrutinise',\n",
    " 'scrutinized': 'scrutinised',\n",
    " 'scrutinizes': 'scrutinises',\n",
    " 'scrutinizing': 'scrutinising',\n",
    " 'secularization': 'secularisation',\n",
    " 'secularize': 'secularise',\n",
    " 'secularized': 'secularised',\n",
    " 'secularizes': 'secularises',\n",
    " 'secularizing': 'secularising',\n",
    " 'sensationalize': 'sensationalise',\n",
    " 'sensationalized': 'sensationalised',\n",
    " 'sensationalizes': 'sensationalises',\n",
    " 'sensationalizing': 'sensationalising',\n",
    " 'sensitize': 'sensitise',\n",
    " 'sensitized': 'sensitised',\n",
    " 'sensitizes': 'sensitises',\n",
    " 'sensitizing': 'sensitising',\n",
    " 'sentimentalize': 'sentimentalise',\n",
    " 'sentimentalized': 'sentimentalised',\n",
    " 'sentimentalizes': 'sentimentalises',\n",
    " 'sentimentalizing': 'sentimentalising',\n",
    " 'sepulcher': 'sepulchre',\n",
    " 'sepulchers ': 'sepulchres',\n",
    " 'serialization': 'serialisation',\n",
    " 'serializations': 'serialisations',\n",
    " 'serialize': 'serialise',\n",
    " 'serialized': 'serialised',\n",
    " 'serializes': 'serialises',\n",
    " 'serializing': 'serialising',\n",
    " 'sermonize': 'sermonise',\n",
    " 'sermonized': 'sermonised',\n",
    " 'sermonizes': 'sermonises',\n",
    " 'sermonizing': 'sermonising',\n",
    " 'sheik ': 'sheikh ',\n",
    " 'shoveled': 'shovelled',\n",
    " 'shoveling': 'shovelling',\n",
    " 'shriveled': 'shrivelled',\n",
    " 'shriveling': 'shrivelling',\n",
    " 'signaled': 'signalled',\n",
    " 'signaling': 'signalling',\n",
    " 'signalize': 'signalise',\n",
    " 'signalized': 'signalised',\n",
    " 'signalizes': 'signalises',\n",
    " 'signalizing': 'signalising',\n",
    " 'siphon': 'syphon',\n",
    " 'siphoned': 'syphoned',\n",
    " 'siphoning': 'syphoning',\n",
    " 'siphons': 'syphons',\n",
    " 'skeptic': 'sceptic',\n",
    " 'skeptical': 'sceptical',\n",
    " 'skeptically': 'sceptically',\n",
    " 'skepticism': 'scepticism',\n",
    " 'skeptics': 'sceptics',\n",
    " 'smolder': 'smoulder',\n",
    " 'smoldered': 'smouldered',\n",
    " 'smoldering': 'smouldering',\n",
    " 'smolders': 'smoulders',\n",
    " 'sniveled': 'snivelled',\n",
    " 'sniveling': 'snivelling',\n",
    " 'snorkeled': 'snorkelled',\n",
    " 'snorkeling': 'snorkelling',\n",
    " 'snowplow': 'snowploughs',\n",
    " 'socialization': 'socialisation',\n",
    " 'socialize': 'socialise',\n",
    " 'socialized': 'socialised',\n",
    " 'socializes': 'socialises',\n",
    " 'socializing': 'socialising',\n",
    " 'sodomize': 'sodomise',\n",
    " 'sodomized': 'sodomised',\n",
    " 'sodomizes': 'sodomises','sodomizing': 'sodomising','solemnize': 'solemnise','solemnized': 'solemnised',\n",
    " 'solemnizes': 'solemnises','solemnizing': 'solemnising',\n",
    " 'somber': 'sombre','specialization': 'specialisation','specializations': 'specialisations',\n",
    " 'specialize': 'specialise','specialized': 'specialised','specializes': 'specialises','specializing': 'specialising',\n",
    " 'specter': 'spectre','specters': 'spectres','spiraled': 'spiralled',\n",
    " 'spiraling': 'spiralling','splendor': 'splendour','splendors': 'splendours','squirreled': 'squirrelled','squirreling': 'squirrelling',\n",
    " 'stabilization': 'stabilisation','stabilize': 'stabilise','stabilized': 'stabilised','stabilizer': 'stabiliser',\n",
    " 'stabilizers': 'stabilisers','stabilizes': 'stabilises','stabilizing': 'stabilising','standardization': 'standardisation',\n",
    " 'standardize': 'standardise','standardized': 'standardised','standardizes': 'standardises','standardizing': 'standardising',\n",
    " 'stenciled': 'stencilled','stenciling': 'stencilling','sterilization': 'sterilisation','sterilizations': 'sterilisations',\n",
    " 'sterilize': 'sterilise','sterilized': 'sterilised','sterilizer': 'steriliser','sterilizers': 'sterilisers',\n",
    " 'sterilizes': 'sterilises','sterilizing': 'sterilising','stigmatization': 'stigmatisation','stigmatize': 'stigmatise',\n",
    " 'stigmatized': 'stigmatised','stigmatizes': 'stigmatises','stigmatizing': 'stigmatising','stories': 'storeys',\n",
    " 'story': 'storey','subsidization': 'subsidisation','subsidize': 'subsidise','subsidized': 'subsidised',\n",
    " 'subsidizer': 'subsidiser','subsidizers': 'subsidisers','subsidizes': 'subsidises','subsidizing': 'subsidising',\n",
    " 'succor': 'succour','succored': 'succoured','succoring': 'succouring','succors': 'succours','sulfate': 'sulphate',\n",
    " 'sulfates': 'sulphates','sulfide': 'sulphide','sulfides': 'sulphides','sulfur': 'sulphur','sulfurous': 'sulphurous'}"
   ]
  },
  {
   "cell_type": "code",
   "execution_count": null,
   "metadata": {},
   "outputs": [],
   "source": [
    "SFW_16  = pd.read_csv('Enhanced construct - 16 sectors.xlsx - Job Role_TSC.csv', error_bad_lines=False)"
   ]
  },
  {
   "cell_type": "code",
   "execution_count": null,
   "metadata": {},
   "outputs": [],
   "source": [
    "SFW_13  = pd.read_csv('Enhanced construct - 13 sectors.xlsx - Job Role_TSC.csv', error_bad_lines=False)"
   ]
  },
  {
   "cell_type": "code",
   "execution_count": null,
   "metadata": {},
   "outputs": [],
   "source": [
    "SFW_16.head()"
   ]
  },
  {
   "cell_type": "code",
   "execution_count": null,
   "metadata": {},
   "outputs": [],
   "source": [
    "SFW_16['Sector'].value_counts().plot(kind='barh', figsize=(10, 8))"
   ]
  },
  {
   "cell_type": "code",
   "execution_count": null,
   "metadata": {},
   "outputs": [],
   "source": [
    "SFW_16['Job Role'].value_counts().sort_values()[:20].plot(kind='barh', figsize=(10, 8))"
   ]
  },
  {
   "cell_type": "code",
   "execution_count": null,
   "metadata": {},
   "outputs": [],
   "source": [
    "SFW_16['Job Role'].value_counts()[:30].plot(kind='barh', figsize=(10, 8))"
   ]
  },
  {
   "cell_type": "code",
   "execution_count": null,
   "metadata": {
    "scrolled": true
   },
   "outputs": [],
   "source": [
    "SFW_13['Sector'].value_counts().plot(kind='barh', figsize=(10, 8))"
   ]
  },
  {
   "cell_type": "code",
   "execution_count": null,
   "metadata": {},
   "outputs": [],
   "source": [
    "SFW_13['Job Role'].value_counts().plot(kind='barh', figsize=(10, 8))"
   ]
  },
  {
   "cell_type": "code",
   "execution_count": null,
   "metadata": {
    "scrolled": true
   },
   "outputs": [],
   "source": [
    "SFW_16.drop(columns=['ID'], inplace=True)"
   ]
  },
  {
   "cell_type": "code",
   "execution_count": null,
   "metadata": {
    "scrolled": true
   },
   "outputs": [],
   "source": [
    "SFW_16"
   ]
  },
  {
   "cell_type": "code",
   "execution_count": null,
   "metadata": {
    "scrolled": true
   },
   "outputs": [],
   "source": [
    "SFW_13"
   ]
  },
  {
   "cell_type": "code",
   "execution_count": null,
   "metadata": {
    "scrolled": true
   },
   "outputs": [],
   "source": [
    "SFW_16['prof + knowlg + ability'] = \"\"\n",
    "for i in range(0, len(SFW_16)):\n",
    "    SFW_16.loc[i, 'prof + knowlg + ability'] = str(SFW_16.loc[i, 'Proficiency']) + str(SFW_16.loc[i, 'Knowledge']) + str(SFW_16.loc[i, 'Abilities'])"
   ]
  },
  {
   "cell_type": "code",
   "execution_count": null,
   "metadata": {},
   "outputs": [],
   "source": [
    "SFW_13['prof + knowlg + ability'] = \"\"\n",
    "for i in range(0, len(SFW_13)):\n",
    "    SFW_13.loc[i, 'prof + knowlg + ability'] = str(SFW_13.loc[i, 'Proficiency']) + str(SFW_13.loc[i, 'Knowledge']) + str(SFW_13.loc[i, 'Abilities'])"
   ]
  },
  {
   "cell_type": "code",
   "execution_count": null,
   "metadata": {
    "scrolled": true
   },
   "outputs": [],
   "source": [
    "SFW_13['prof + knowlg + ability'][0]"
   ]
  },
  {
   "cell_type": "code",
   "execution_count": null,
   "metadata": {
    "scrolled": true
   },
   "outputs": [],
   "source": [
    "SFW_16['clean_docs'] = SFW_16['prof + knowlg + ability'].apply(lambda x: x.replace('\\n', '. '))"
   ]
  },
  {
   "cell_type": "code",
   "execution_count": null,
   "metadata": {},
   "outputs": [],
   "source": [
    "SFW_16['clean_docs'] = SFW_16['clean_docs'].apply(lambda x: x.replace('•', ' '))"
   ]
  },
  {
   "cell_type": "code",
   "execution_count": null,
   "metadata": {},
   "outputs": [],
   "source": [
    "SFW_13['clean_docs'] = SFW_13['prof + knowlg + ability'].apply(lambda x: x.replace('\\n', '. '))"
   ]
  },
  {
   "cell_type": "code",
   "execution_count": null,
   "metadata": {},
   "outputs": [],
   "source": [
    "SFW_13['clean_docs'] = SFW_13['clean_docs'].apply(lambda x: x.replace('•', ' '))"
   ]
  },
  {
   "cell_type": "code",
   "execution_count": null,
   "metadata": {},
   "outputs": [],
   "source": [
    "SFW_16['clean_docs'][18697]"
   ]
  },
  {
   "cell_type": "code",
   "execution_count": null,
   "metadata": {},
   "outputs": [],
   "source": [
    "SFW_16['clean_docs'] = SFW_16['clean_docs'].apply(lambda x: replace_all(x, us2gb))"
   ]
  },
  {
   "cell_type": "code",
   "execution_count": null,
   "metadata": {},
   "outputs": [],
   "source": [
    "SFW_13['clean_docs'] = SFW_13['clean_docs'].apply(lambda x: replace_all(x, us2gb))"
   ]
  },
  {
   "cell_type": "code",
   "execution_count": null,
   "metadata": {},
   "outputs": [],
   "source": [
    "stopwords = nltk.corpus.stopwords.words('english')\n",
    "\n",
    "def freq(x): #x is each row in cf_clean (1 jd)\n",
    "    sentence_list = nltk.sent_tokenize(x)\n",
    "    word_frequencies = {}\n",
    "    for word in nltk.word_tokenize(x):\n",
    "        if word not in stopwords:\n",
    "            if word not in word_frequencies.keys():\n",
    "                word_frequencies[word] = 1\n",
    "            else:\n",
    "                word_frequencies[word] += 1\n",
    "                    \n",
    "    maximum_frequency = max(word_frequencies.values())\n",
    "    for word in word_frequencies.keys():\n",
    "        word_frequencies[word] = (word_frequencies[word]/maximum_frequency)\n",
    "            \n",
    "    sentence_scores = {}\n",
    "    for sent in sentence_list:\n",
    "        for word in nltk.word_tokenize(sent.lower()):\n",
    "            if word in word_frequencies.keys():\n",
    "                if len(sent.split(' ')) < 30:\n",
    "                    if sent not in sentence_scores.keys():\n",
    "                        sentence_scores[sent] = word_frequencies[word]\n",
    "                    else:\n",
    "                        sentence_scores[sent] += word_frequencies[word]\n",
    "                        \n",
    "    summary_sentences = heapq.nlargest(5, sentence_scores, key=sentence_scores.get)\n",
    "    summary = ' '.join(summary_sentences)\n",
    "    return summary"
   ]
  },
  {
   "cell_type": "code",
   "execution_count": null,
   "metadata": {
    "scrolled": true
   },
   "outputs": [],
   "source": [
    "SFW_16['summary_jd'] = SFW_16['clean_docs'].apply(lambda x: freq(x))"
   ]
  },
  {
   "cell_type": "code",
   "execution_count": null,
   "metadata": {},
   "outputs": [],
   "source": [
    "SFW_13['summary_jd'] = SFW_13['clean_docs'].apply(lambda x: freq(x))"
   ]
  },
  {
   "cell_type": "code",
   "execution_count": null,
   "metadata": {},
   "outputs": [],
   "source": [
    "SFW_16['summary_jd'][0]"
   ]
  },
  {
   "cell_type": "code",
   "execution_count": null,
   "metadata": {},
   "outputs": [],
   "source": [
    "SFW_16['clean_docs'][0]"
   ]
  },
  {
   "cell_type": "code",
   "execution_count": null,
   "metadata": {},
   "outputs": [],
   "source": [
    "SFW_16.to_csv('/Users/eramalam/Desktop/SFW_16_cleaned_summarised.csv')"
   ]
  },
  {
   "cell_type": "code",
   "execution_count": null,
   "metadata": {},
   "outputs": [],
   "source": [
    "len(SFW_16)"
   ]
  },
  {
   "cell_type": "code",
   "execution_count": null,
   "metadata": {},
   "outputs": [],
   "source": [
    "SFW_13.to_csv('/Users/eramalam/Desktop/SFW_13_cleaned_summarised.csv')"
   ]
  },
  {
   "cell_type": "code",
   "execution_count": null,
   "metadata": {},
   "outputs": [],
   "source": [
    "len(SFW_13)"
   ]
  },
  {
   "cell_type": "code",
   "execution_count": null,
   "metadata": {},
   "outputs": [],
   "source": [
    "CF  = pd.read_csv('CareersFutureCleaned.csv')"
   ]
  },
  {
   "cell_type": "code",
   "execution_count": null,
   "metadata": {
    "scrolled": true
   },
   "outputs": [],
   "source": [
    "CF"
   ]
  },
  {
   "cell_type": "code",
   "execution_count": null,
   "metadata": {},
   "outputs": [],
   "source": [
    "import ast"
   ]
  },
  {
   "cell_type": "code",
   "execution_count": null,
   "metadata": {
    "scrolled": true
   },
   "outputs": [],
   "source": [
    "CF['Skills'] = CF['Skills'].apply(lambda x: ast.literal_eval(x))"
   ]
  },
  {
   "cell_type": "code",
   "execution_count": null,
   "metadata": {},
   "outputs": [],
   "source": [
    "CF['Skills'][0]"
   ]
  },
  {
   "cell_type": "code",
   "execution_count": null,
   "metadata": {
    "scrolled": true
   },
   "outputs": [],
   "source": [
    "CF_exploded = CF.explode('Skills')"
   ]
  },
  {
   "cell_type": "code",
   "execution_count": null,
   "metadata": {},
   "outputs": [],
   "source": [
    "CF_exploded['Skills'] = CF_exploded['Skills'].apply(lambda x: x.lower())"
   ]
  },
  {
   "cell_type": "code",
   "execution_count": null,
   "metadata": {},
   "outputs": [],
   "source": [
    "len(CF_exploded['Skills'].unique())"
   ]
  },
  {
   "cell_type": "code",
   "execution_count": null,
   "metadata": {},
   "outputs": [],
   "source": [
    "cf_skills = CF_exploded['Skills'].value_counts().to_frame()"
   ]
  },
  {
   "cell_type": "code",
   "execution_count": null,
   "metadata": {},
   "outputs": [],
   "source": [
    "cf_skills.loc[cf_skills['Skills'] == 5]"
   ]
  },
  {
   "cell_type": "code",
   "execution_count": null,
   "metadata": {},
   "outputs": [],
   "source": [
    "cf_skills_1 = cf_skills.loc[cf_skills['Skills'] == 1]"
   ]
  },
  {
   "cell_type": "code",
   "execution_count": null,
   "metadata": {},
   "outputs": [],
   "source": [
    "cf_skills_1"
   ]
  },
  {
   "cell_type": "code",
   "execution_count": null,
   "metadata": {
    "scrolled": true
   },
   "outputs": [],
   "source": [
    "CF_exploded['Skills'].value_counts()[:30].plot(kind='barh', figsize=(12, 10))"
   ]
  },
  {
   "cell_type": "code",
   "execution_count": null,
   "metadata": {},
   "outputs": [],
   "source": [
    "from nltk.corpus import stopwords\n",
    "from wordcloud import WordCloud\n",
    "import matplotlib.pyplot as plt"
   ]
  },
  {
   "cell_type": "code",
   "execution_count": null,
   "metadata": {},
   "outputs": [],
   "source": [
    "CF['clean_jd'] = CF.apply(lambda x: str(x['Job Description']), axis=1)"
   ]
  },
  {
   "cell_type": "code",
   "execution_count": null,
   "metadata": {},
   "outputs": [],
   "source": [
    "CF['clean_jd'] = CF['clean_jd'].apply(lambda x: re.sub('[^A-Za-z0-9]+', ' ', x))"
   ]
  },
  {
   "cell_type": "code",
   "execution_count": null,
   "metadata": {},
   "outputs": [],
   "source": [
    "#lowercase all characters\n",
    "CF['clean_jd'] = CF[\"clean_jd\"].fillna('').apply(lambda x: x.lower())"
   ]
  },
  {
   "cell_type": "code",
   "execution_count": null,
   "metadata": {},
   "outputs": [],
   "source": [
    "CF['clean_jd']"
   ]
  },
  {
   "cell_type": "code",
   "execution_count": null,
   "metadata": {},
   "outputs": [],
   "source": [
    "#CF\n",
    "# tokenization\n",
    "tokenized_doc_cf = CF['clean_jd'].fillna('').apply(lambda x: x.split())\n",
    "# remove stop-words\n",
    "tokenized_doc_cf = tokenized_doc_cf.apply(lambda x: [item for item in x if item not in stopwords.words('english')])"
   ]
  },
  {
   "cell_type": "code",
   "execution_count": null,
   "metadata": {},
   "outputs": [],
   "source": [
    "model = Word2Vec(tokenized_doc_cf)\n",
    "words = list(model.wv.vocab)"
   ]
  },
  {
   "cell_type": "code",
   "execution_count": null,
   "metadata": {},
   "outputs": [],
   "source": [
    "all_words = ' '.join([word for word in words])"
   ]
  },
  {
   "cell_type": "code",
   "execution_count": null,
   "metadata": {
    "scrolled": true
   },
   "outputs": [],
   "source": [
    "wordcloud = WordCloud(width=800, height=500, random_state=21, max_font_size=110).generate(all_words)\n",
    "plt.figure(figsize=(15, 8))\n",
    "plt.imshow(wordcloud, interpolation=\"bilinear\")\n",
    "plt.axis('off')\n",
    "plt.title(\"Some frequent words used in CF job descriptions\", weight='bold', fontsize=14)\n",
    "plt.show()"
   ]
  },
  {
   "cell_type": "code",
   "execution_count": null,
   "metadata": {},
   "outputs": [],
   "source": [
    "type(CF_exploded['Skills'])"
   ]
  },
  {
   "cell_type": "code",
   "execution_count": null,
   "metadata": {},
   "outputs": [],
   "source": [
    "CF_skills_unique = pd.Series(CF_exploded['Skills'].unique())"
   ]
  },
  {
   "cell_type": "code",
   "execution_count": null,
   "metadata": {},
   "outputs": [],
   "source": [
    "#CF\n",
    "# tokenization\n",
    "tokenized_doc_cf_skills = CF_skills_unique.fillna('').apply(lambda x: x.split())\n",
    "# remove stop-words\n",
    "tokenized_doc_cf_skills = tokenized_doc_cf_skills.apply(lambda x: [item for item in x if item not in stopwords.words('english')])"
   ]
  },
  {
   "cell_type": "code",
   "execution_count": null,
   "metadata": {},
   "outputs": [],
   "source": [
    "model_skills = Word2Vec(tokenized_doc_cf_skills)\n",
    "skills = list(model_skills.wv.vocab)"
   ]
  },
  {
   "cell_type": "code",
   "execution_count": null,
   "metadata": {},
   "outputs": [],
   "source": [
    "from gensim.models import Word2Vec\n",
    "from sklearn.decomposition import PCA\n",
    "from matplotlib import pyplot"
   ]
  },
  {
   "cell_type": "code",
   "execution_count": null,
   "metadata": {},
   "outputs": [],
   "source": [
    "# fit a 2d PCA model to the vectors\n",
    "X = model_skills[model_skills.wv.vocab]\n",
    "pca = PCA(n_components=2)\n",
    "result = pca.fit_transform(X)"
   ]
  },
  {
   "cell_type": "code",
   "execution_count": null,
   "metadata": {},
   "outputs": [],
   "source": [
    "# create a scatter plot of the projection\n",
    "pyplot.figure(figsize=(40,20))\n",
    "pyplot.scatter(result[:, 0], result[:, 1])\n",
    "words = list(model_skills.wv.vocab)\n",
    "for i, word in enumerate(words):\n",
    "    pyplot.annotate(word, xy=(result[i, 0], result[i, 1]))\n",
    "#pyplot.figure(figsize=(30,20))\n",
    "pyplot.show()"
   ]
  },
  {
   "cell_type": "code",
   "execution_count": null,
   "metadata": {},
   "outputs": [],
   "source": []
  }
 ],
 "metadata": {
  "kernelspec": {
   "display_name": "Python 3",
   "language": "python",
   "name": "python3"
  },
  "language_info": {
   "codemirror_mode": {
    "name": "ipython",
    "version": 3
   },
   "file_extension": ".py",
   "mimetype": "text/x-python",
   "name": "python",
   "nbconvert_exporter": "python",
   "pygments_lexer": "ipython3",
   "version": "3.8.5"
  }
 },
 "nbformat": 4,
 "nbformat_minor": 2
}
