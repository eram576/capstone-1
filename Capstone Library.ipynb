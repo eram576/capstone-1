{
 "cells": [
  {
   "cell_type": "code",
   "execution_count": null,
   "metadata": {
    "id": "fg_T6SfNhzyq"
   },
   "outputs": [],
   "source": [
    "import pandas as pd\n",
    "import numpy as np\n",
    "import re\n",
    "import string\n",
    "from bs4 import BeautifulSoup\n",
    "from ast import literal_eval"
   ]
  },
  {
   "cell_type": "code",
   "execution_count": null,
   "metadata": {
    "id": "9fCl1X5Whzyx"
   },
   "outputs": [],
   "source": [
    "import nltk\n",
    "from nltk.stem import PorterStemmer, WordNetLemmatizer\n",
    "from gensim.models import Word2Vec\n",
    "from sklearn.decomposition import PCA\n",
    "from matplotlib import pyplot"
   ]
  },
  {
   "cell_type": "code",
   "execution_count": null,
   "metadata": {
    "id": "h1ASfLL0hzyx"
   },
   "outputs": [],
   "source": [
    "CF_clean = pd.read_csv('CareersFutureCleaned.csv')"
   ]
  },
  {
   "cell_type": "code",
   "execution_count": null,
   "metadata": {
    "id": "B70g6pcjhzyy",
    "outputId": "089a7332-8033-4d4a-b662-a1cf6dc03409"
   },
   "outputs": [],
   "source": [
    "CF_clean"
   ]
  },
  {
   "cell_type": "code",
   "execution_count": null,
   "metadata": {
    "id": "Hw7VP1Oqhzyz"
   },
   "outputs": [],
   "source": [
    "CF_clean.drop([\"Unnamed: 0\"], axis=1, inplace=True)"
   ]
  },
  {
   "cell_type": "code",
   "execution_count": null,
   "metadata": {
    "id": "5UTCxgE6hzyz",
    "outputId": "5200d887-06ce-4b3a-9418-02b0962970c3"
   },
   "outputs": [],
   "source": [
    "CF_clean"
   ]
  },
  {
   "cell_type": "code",
   "execution_count": null,
   "metadata": {
    "id": "L-tDJQRFhzy1",
    "outputId": "87de12f0-9151-41eb-faa9-7b7b3bc6728b"
   },
   "outputs": [],
   "source": [
    "CF_clean['Industry'].unique()"
   ]
  },
  {
   "cell_type": "code",
   "execution_count": null,
   "metadata": {
    "id": "_pBewzUzhzy1"
   },
   "outputs": [],
   "source": [
    "cf_ind = CF_clean['Industry'].unique()"
   ]
  },
  {
   "cell_type": "code",
   "execution_count": null,
   "metadata": {
    "id": "ONQXdBQNhzy1",
    "outputId": "0073d2bc-64af-47ba-d1d7-75fc6432f79b"
   },
   "outputs": [],
   "source": [
    "cf_ind"
   ]
  },
  {
   "cell_type": "code",
   "execution_count": null,
   "metadata": {
    "id": "7jaU5-jChzy2"
   },
   "outputs": [],
   "source": [
    "SFW_16  = pd.read_csv('Enhanced construct - 16 sectors.xlsx - Job Role_TSC.csv', error_bad_lines=False)"
   ]
  },
  {
   "cell_type": "code",
   "execution_count": null,
   "metadata": {
    "id": "QNuSrRr5hzy2",
    "outputId": "a3a2f3e6-a7a9-4a04-880e-923979368957"
   },
   "outputs": [],
   "source": [
    "SFW_16"
   ]
  },
  {
   "cell_type": "code",
   "execution_count": null,
   "metadata": {
    "id": "NjHjZJAChzy2",
    "outputId": "404e74b6-f7e0-46fd-ccbe-27d5d532f5ea"
   },
   "outputs": [],
   "source": [
    "SFW_16['Sector'].unique()"
   ]
  },
  {
   "cell_type": "code",
   "execution_count": null,
   "metadata": {
    "id": "N-Oxxq9nhzy2"
   },
   "outputs": [],
   "source": [
    "sfw_ind = SFW_16['Sector'].unique()"
   ]
  },
  {
   "cell_type": "code",
   "execution_count": null,
   "metadata": {
    "id": "30OPOkEbhzy3",
    "outputId": "713d0566-e568-408c-cc6f-1a2bbfb69925"
   },
   "outputs": [],
   "source": [
    "sfw_ind"
   ]
  },
  {
   "cell_type": "code",
   "execution_count": null,
   "metadata": {
    "id": "Q0yxGdzthzy3"
   },
   "outputs": [],
   "source": [
    "import nltk\n",
    "from nltk.stem import PorterStemmer, WordNetLemmatizer\n",
    "from nltk.tokenize import word_tokenize, sent_tokenize\n",
    "from nltk.corpus import stopwords\n",
    "from nltk import pos_tag, wordnet"
   ]
  },
  {
   "cell_type": "markdown",
   "metadata": {
    "id": "ocq8I7sahzy3"
   },
   "source": [
    "# Spacy for industry mapping"
   ]
  },
  {
   "cell_type": "code",
   "execution_count": null,
   "metadata": {
    "id": "hUgtjXcMhzy3",
    "outputId": "798f2c6c-1107-46b4-cd41-9573880bf51d",
    "scrolled": true
   },
   "outputs": [],
   "source": [
    "import spacy\n",
    "nlp = spacy.load(\"en_core_web_lg\")"
   ]
  },
  {
   "cell_type": "code",
   "execution_count": null,
   "metadata": {
    "id": "i6k60GsPhzy4",
    "outputId": "e0218a23-03ec-4568-f17c-8aff8f005460"
   },
   "outputs": [],
   "source": [
    "doc1 = nlp(\"Design\")\n",
    "doc2 = nlp(\"Design\")\n",
    "doc1.similarity(doc2)"
   ]
  },
  {
   "cell_type": "code",
   "execution_count": null,
   "metadata": {
    "id": "mZ22g2--hzy4",
    "outputId": "1523b5d1-ced1-445d-ba29-29c796c0764e"
   },
   "outputs": [],
   "source": [
    "' '.join(eval(cf_ind[0])).lower()"
   ]
  },
  {
   "cell_type": "code",
   "execution_count": null,
   "metadata": {
    "id": "4QAwmHt9hzy4",
    "outputId": "fa1d2e7b-ce38-4641-aa67-573b27388675"
   },
   "outputs": [],
   "source": [
    "sim = {'cf_ind': [], 'sfw_ind': [], 'sim score': []}\n",
    "# scores = []\n",
    "# sfw = []\n",
    "for i in cf_ind:\n",
    "    scores = []\n",
    "    sfw = []\n",
    "    for j in sfw_ind:\n",
    "        i_lower = nlp(' '.join(eval(i)).lower())\n",
    "        j_lower = nlp(j.lower())\n",
    "        scores.append(i_lower.similarity(j_lower))\n",
    "        sfw.append(j_lower)\n",
    "    sim['sim score'].append(scores)\n",
    "    sim['cf_ind'].append(i_lower)\n",
    "    sim['sfw_ind'].append(sfw)\n",
    "    "
   ]
  },
  {
   "cell_type": "code",
   "execution_count": null,
   "metadata": {
    "id": "RcJG8KSohzy4"
   },
   "outputs": [],
   "source": [
    "sim_df = pd.DataFrame(sim)"
   ]
  },
  {
   "cell_type": "code",
   "execution_count": null,
   "metadata": {
    "id": "L0MvJLbbhzy4",
    "outputId": "a6c7c370-9b3e-4dd0-dd28-35b40f8fb648",
    "scrolled": true
   },
   "outputs": [],
   "source": [
    "sim_df"
   ]
  },
  {
   "cell_type": "code",
   "execution_count": null,
   "metadata": {
    "id": "YFuihi-5hzy5"
   },
   "outputs": [],
   "source": [
    "max_scores = []\n",
    "max_sfw = []\n",
    "for i in range(0, len(sim_df)):\n",
    "    max_scores.append(max(sim_df['sim score'][i]))\n",
    "    sf = np.argmax(sim_df['sim score'][i])\n",
    "    max_sfw.append(sim_df['sfw_ind'][i][sf])"
   ]
  },
  {
   "cell_type": "code",
   "execution_count": null,
   "metadata": {
    "id": "eeYISBrJhzy5",
    "outputId": "5e42bcfc-c0a4-4ba2-f1ef-36487aa12be7"
   },
   "outputs": [],
   "source": [
    "len(max_scores)"
   ]
  },
  {
   "cell_type": "code",
   "execution_count": null,
   "metadata": {
    "id": "lQczNwbYhzy5",
    "outputId": "cca6209f-2269-4e97-90ca-0d35bc091310",
    "scrolled": true
   },
   "outputs": [],
   "source": [
    "len(max_sfw)"
   ]
  },
  {
   "cell_type": "code",
   "execution_count": null,
   "metadata": {
    "id": "QAhEqKL_hzy5"
   },
   "outputs": [],
   "source": [
    "sim_df['max scores'] = max_scores"
   ]
  },
  {
   "cell_type": "code",
   "execution_count": null,
   "metadata": {
    "id": "2OeS0-jXhzy6"
   },
   "outputs": [],
   "source": [
    "sim_df['max sfw'] = max_sfw"
   ]
  },
  {
   "cell_type": "code",
   "execution_count": null,
   "metadata": {
    "id": "xzcsuSnfhzy6",
    "outputId": "ae300637-cdd3-4f68-edaa-8c53330cad66"
   },
   "outputs": [],
   "source": [
    "sim_df"
   ]
  },
  {
   "cell_type": "code",
   "execution_count": null,
   "metadata": {
    "id": "PDbBf4hbhzy6"
   },
   "outputs": [],
   "source": [
    "max(sim_df['max scores'])"
   ]
  },
  {
   "cell_type": "code",
   "execution_count": null,
   "metadata": {
    "id": "xqW08oVWhzy6"
   },
   "outputs": [],
   "source": [
    "sim_df['max scores'].idxmax()"
   ]
  },
  {
   "cell_type": "code",
   "execution_count": null,
   "metadata": {
    "id": "6uvWFnZXhzy6"
   },
   "outputs": [],
   "source": [
    "sim_df.loc[29]"
   ]
  },
  {
   "cell_type": "markdown",
   "metadata": {
    "id": "6dW0arynhzy6"
   },
   "source": [
    "# Clustering and topic modeling skills "
   ]
  },
  {
   "cell_type": "code",
   "execution_count": null,
   "metadata": {
    "id": "1jH4u4SQhzy7"
   },
   "outputs": [],
   "source": [
    "SFW_16['prof + knowlg + ability'] = \"\"\n",
    "for i in range(0, len(SFW_16)):\n",
    "    SFW_16.loc[i, 'prof + knowlg + ability'] = str(SFW_16.loc[i, 'Proficiency']) + str(SFW_16.loc[i, 'Knowledge']) + str(SFW_16.loc[i, 'Abilities'])"
   ]
  },
  {
   "cell_type": "code",
   "execution_count": null,
   "metadata": {
    "id": "1Ne9Un1Mhzy7"
   },
   "outputs": [],
   "source": [
    "#SFW\n",
    "for i in range(0, len(SFW_16)):\n",
    "    text = SFW_16['prof + knowlg + ability'][i]\n",
    "    text2 = re.sub('[^A-Za-z0-9]+', ' ', text)\n",
    "    text3 = text2.strip() \n",
    "    SFW_16['prof + knowlg + ability'][i] = text3"
   ]
  },
  {
   "cell_type": "code",
   "execution_count": null,
   "metadata": {
    "id": "RKiTSTK5hzy7"
   },
   "outputs": [],
   "source": [
    "SFW_design = SFW_16[SFW_16['Sector'].str.contains('Design')]"
   ]
  },
  {
   "cell_type": "code",
   "execution_count": null,
   "metadata": {
    "id": "sV4e0QXphzy7",
    "outputId": "9f933ef9-588f-4349-8f44-5bf7ba48abbe"
   },
   "outputs": [],
   "source": [
    "SFW_design"
   ]
  },
  {
   "cell_type": "code",
   "execution_count": null,
   "metadata": {
    "id": "x3MKOyAVhzy7",
    "outputId": "8baa63c2-19c8-4838-caec-fafb36f94672"
   },
   "outputs": [],
   "source": [
    "len(SFW_design['Skill Title'].unique())"
   ]
  },
  {
   "cell_type": "code",
   "execution_count": null,
   "metadata": {
    "id": "ozBTqhxNhzy7"
   },
   "outputs": [],
   "source": [
    "CF_clean_design = CF_clean[CF_clean['Industry'].str.contains('Design')]"
   ]
  },
  {
   "cell_type": "code",
   "execution_count": null,
   "metadata": {
    "id": "znmg8Ad5hzy8",
    "outputId": "9a2e328d-99a4-453a-f294-a05f34d01af9"
   },
   "outputs": [],
   "source": [
    "CF_clean_design"
   ]
  },
  {
   "cell_type": "code",
   "execution_count": null,
   "metadata": {
    "id": "uWCy6Y2rhzy8"
   },
   "outputs": [],
   "source": [
    "CF_clean_design.reset_index(inplace=True)"
   ]
  },
  {
   "cell_type": "code",
   "execution_count": null,
   "metadata": {
    "id": "WeDD-ZYthzy8",
    "outputId": "3f9c9699-716d-469b-ec5a-afcfeab096c2",
    "scrolled": true
   },
   "outputs": [],
   "source": [
    "CF_clean_design['clean_jd'] = ''\n",
    "for i in range(0, len(CF_clean_design)):\n",
    "    CF_clean_design['clean_jd'][i] = str(CF_clean_design[\"Job Description\"][i])"
   ]
  },
  {
   "cell_type": "code",
   "execution_count": null,
   "metadata": {
    "id": "yn7_VBT8hzy8",
    "outputId": "43c05f10-2116-484e-a05f-9453d423a135",
    "scrolled": true
   },
   "outputs": [],
   "source": [
    "CF_clean_design['clean_jd'][0]"
   ]
  },
  {
   "cell_type": "code",
   "execution_count": null,
   "metadata": {
    "id": "FtfucCPyhzy8",
    "outputId": "795d8f1a-a6e7-472d-d6bd-55033f4bdc3b"
   },
   "outputs": [],
   "source": [
    "CF_clean_design['clean_jd'] = CF_clean_design['clean_jd'].apply(lambda x: re.sub('[^A-Za-z0-9]+', ' ', x))"
   ]
  },
  {
   "cell_type": "code",
   "execution_count": null,
   "metadata": {
    "id": "u5mC0fsahzy9",
    "outputId": "c2bd955c-0f3b-4eec-9065-87495e020cfd",
    "scrolled": true
   },
   "outputs": [],
   "source": [
    "CF_clean_design['clean_jd'][0]"
   ]
  },
  {
   "cell_type": "code",
   "execution_count": null,
   "metadata": {
    "id": "vBG6dhMuhzy9",
    "outputId": "5b900e34-bcd7-410f-d34e-c947b0ff5d1f"
   },
   "outputs": [],
   "source": [
    "#lowercase all characters\n",
    "SFW_design['clean_documents'] = SFW_design[\"prof + knowlg + ability\"].fillna('').apply(lambda x: x.lower())"
   ]
  },
  {
   "cell_type": "code",
   "execution_count": null,
   "metadata": {
    "id": "w1okjAU1hzy9",
    "outputId": "f8c29af8-aeeb-469f-bddb-9a59c830abc1"
   },
   "outputs": [],
   "source": [
    "#lowercase all characters\n",
    "CF_clean_design['clean_jd'] = CF_clean_design[\"clean_jd\"].fillna('').apply(lambda x: x.lower())"
   ]
  },
  {
   "cell_type": "code",
   "execution_count": null,
   "metadata": {
    "id": "mDNhRgm2hzy9"
   },
   "outputs": [],
   "source": [
    "# tokenization\n",
    "tokenized_doc = SFW_design['clean_documents'].fillna('').apply(lambda x: x.split())"
   ]
  },
  {
   "cell_type": "code",
   "execution_count": null,
   "metadata": {
    "id": "YuK6E7Huhzy-"
   },
   "outputs": [],
   "source": [
    "stemmer = PorterStemmer()"
   ]
  },
  {
   "cell_type": "code",
   "execution_count": null,
   "metadata": {
    "id": "nb7yq_AYhzy-"
   },
   "outputs": [],
   "source": [
    "# remove stop-words\n",
    "tokenized_doc = tokenized_doc.apply(lambda x: [stemmer.stem(item) for item in x if item not in stopwords.words('english')])"
   ]
  },
  {
   "cell_type": "code",
   "execution_count": null,
   "metadata": {
    "id": "jKWteexjhzy-",
    "outputId": "e083cf37-16d3-4525-9895-c080020857fc",
    "scrolled": true
   },
   "outputs": [],
   "source": [
    "tokenized_doc"
   ]
  },
  {
   "cell_type": "code",
   "execution_count": null,
   "metadata": {
    "id": "0SdDwcCihzy-"
   },
   "outputs": [],
   "source": [
    "#CF\n",
    "# tokenization\n",
    "tokenized_doc_cf = CF_clean_design['clean_jd'].fillna('').apply(lambda x: x.split())\n",
    "# remove stop-words\n",
    "tokenized_doc_cf = tokenized_doc_cf.apply(lambda x: [stemmer.stem(item) for item in x if item not in stopwords.words('english')])"
   ]
  },
  {
   "cell_type": "code",
   "execution_count": null,
   "metadata": {
    "id": "qAW_rG2shzy-",
    "outputId": "49ce1fca-d7ab-4d11-fe84-e0a5d62712fb",
    "scrolled": true
   },
   "outputs": [],
   "source": [
    "tokenized_doc.append(tokenized_doc_cf)"
   ]
  },
  {
   "cell_type": "code",
   "execution_count": null,
   "metadata": {
    "id": "shapNk2Ahzy-"
   },
   "outputs": [],
   "source": [
    "model = Word2Vec(tokenized_doc)"
   ]
  },
  {
   "cell_type": "code",
   "execution_count": null,
   "metadata": {
    "id": "yITGBX9bhzy_"
   },
   "outputs": [],
   "source": [
    "words = list(model.wv.vocab)"
   ]
  },
  {
   "cell_type": "code",
   "execution_count": null,
   "metadata": {
    "id": "OHYO71FDhzy_",
    "outputId": "ac0cca94-d5fa-42d4-c13a-4e479674244d",
    "scrolled": true
   },
   "outputs": [],
   "source": [
    "words"
   ]
  },
  {
   "cell_type": "code",
   "execution_count": null,
   "metadata": {
    "id": "QL3w9PIAhzy_",
    "outputId": "bd4d87c8-28e3-4c16-cc60-36f01b35b8b5"
   },
   "outputs": [],
   "source": [
    "# fit a 2d PCA model to the vectors\n",
    "X = model[model.wv.vocab]\n",
    "pca = PCA(n_components=2)\n",
    "result = pca.fit_transform(X)"
   ]
  },
  {
   "cell_type": "code",
   "execution_count": null,
   "metadata": {
    "id": "mjPCIKZbhzy_",
    "outputId": "94a0bbb4-ac8a-478a-8c21-0d9b2818d917"
   },
   "outputs": [],
   "source": [
    "pyplot.scatter(result[:, 0], result[:, 1])"
   ]
  },
  {
   "cell_type": "code",
   "execution_count": null,
   "metadata": {
    "id": "2D12FT7shzzA",
    "outputId": "142d8fd6-f6e5-496d-953a-34c072b7bc00"
   },
   "outputs": [],
   "source": [
    "# create a scatter plot of the projection\n",
    "pyplot.figure(figsize=(30,15))\n",
    "pyplot.scatter(result[:, 0], result[:, 1])\n",
    "words = list(model.wv.vocab)\n",
    "for i, word in enumerate(words):\n",
    "    pyplot.annotate(word, xy=(result[i, 0], result[i, 1]))\n",
    "#pyplot.figure(figsize=(30,20))\n",
    "pyplot.show()"
   ]
  },
  {
   "cell_type": "code",
   "execution_count": null,
   "metadata": {
    "id": "T4bsH5i0hzzA"
   },
   "outputs": [],
   "source": [
    "from wordcloud import WordCloud"
   ]
  },
  {
   "cell_type": "code",
   "execution_count": null,
   "metadata": {
    "id": "gKVbID1UhzzA"
   },
   "outputs": [],
   "source": [
    "all_words = ' '.join([word for word in words])"
   ]
  },
  {
   "cell_type": "code",
   "execution_count": null,
   "metadata": {
    "id": "5o7cW8PEhzzA",
    "outputId": "6f6de0a4-1506-4fa7-c3da-f1cd1f9cf5ab",
    "scrolled": true
   },
   "outputs": [],
   "source": [
    "all_words "
   ]
  },
  {
   "cell_type": "code",
   "execution_count": null,
   "metadata": {
    "id": "Mr5uu4YvhzzB",
    "outputId": "e083a36d-3636-49d6-814c-91c43049afe4"
   },
   "outputs": [],
   "source": [
    "wordcloud = WordCloud(width=800, height=500, random_state=21, max_font_size=110).generate(all_words)\n",
    "plt.figure(figsize=(15, 8))\n",
    "plt.imshow(wordcloud, interpolation=\"bilinear\")\n",
    "plt.axis('off')\n",
    "plt.title(\"Some frequent words used in the headlines\", weight='bold', fontsize=14)\n",
    "plt.show()"
   ]
  },
  {
   "cell_type": "code",
   "execution_count": null,
   "metadata": {
    "id": "N31ygCcPhzzB"
   },
   "outputs": [],
   "source": [
    "from sklearn.feature_extraction.text import TfidfVectorizer\n",
    "vectorizer = TfidfVectorizer(stop_words='english', smooth_idf=True)\n",
    "V = vectorizer.fit_transform(SFW_design['clean_documents'])"
   ]
  },
  {
   "cell_type": "code",
   "execution_count": null,
   "metadata": {
    "id": "zqItzRnzhzzB",
    "outputId": "b03ceb9a-dce3-4269-f4c6-51b464000b55",
    "scrolled": true
   },
   "outputs": [],
   "source": [
    "SFW_design['clean_documents']"
   ]
  },
  {
   "cell_type": "code",
   "execution_count": null,
   "metadata": {
    "id": "P3rkPiSXhzzB"
   },
   "outputs": [],
   "source": [
    "#FOR TOPIC MODELING\n",
    "from sklearn.decomposition import TruncatedSVD\n",
    "# SVD represent documents and terms in vectors (converting sparse vectors into dense vectors - LSA part)\n",
    "svd_model = TruncatedSVD(n_components=48, algorithm='randomized', n_iter=100, random_state=122)\n",
    "lsa = svd_model.fit_transform(V)"
   ]
  },
  {
   "cell_type": "code",
   "execution_count": null,
   "metadata": {
    "id": "wD6C_v4HhzzB",
    "outputId": "f7200c72-3919-44b6-dee0-be6e1aa8c4fa"
   },
   "outputs": [],
   "source": [
    "len(svd_model.components_)"
   ]
  },
  {
   "cell_type": "code",
   "execution_count": null,
   "metadata": {
    "id": "fZ2kl1DFhzzC",
    "outputId": "38e3e94b-c62b-467c-f922-4e1776ec84bb"
   },
   "outputs": [],
   "source": [
    "terms = vectorizer.get_feature_names()\n",
    "\n",
    "for i, comp in enumerate(svd_model.components_):\n",
    "    terms_comp = zip(terms, comp)\n",
    "    sorted_terms = sorted(terms_comp, key= lambda x:x[1], reverse=True)[:7]\n",
    "    print(\"Topic \"+str(i)+\": \")\n",
    "    for t in sorted_terms:\n",
    "        print(t[0])\n",
    "    print(\" \")"
   ]
  },
  {
   "cell_type": "markdown",
   "metadata": {
    "id": "0RHGDRUwhzzC"
   },
   "source": [
    "# Similarity using Spacy"
   ]
  },
  {
   "cell_type": "code",
   "execution_count": null,
   "metadata": {
    "id": "MjU6gCs2hzzC"
   },
   "outputs": [],
   "source": [
    "stemmer = PorterStemmer()"
   ]
  },
  {
   "cell_type": "code",
   "execution_count": null,
   "metadata": {
    "id": "d7KTH6h5hzzD"
   },
   "outputs": [],
   "source": [
    "#SFW\n",
    "# tokenization\n",
    "tokenized_doc = SFW_design['clean_documents'].fillna('').apply(lambda x: x.split())\n",
    "# remove stop-words\n",
    "tokenized_doc = tokenized_doc.apply(lambda x: [stemmer.stem(item) for item in x if item not in stopwords.words('english')])"
   ]
  },
  {
   "cell_type": "code",
   "execution_count": null,
   "metadata": {
    "id": "UTdW7_hUhzzD"
   },
   "outputs": [],
   "source": [
    "#CF\n",
    "# tokenization\n",
    "tokenized_doc_cf = CF_clean_design['clean_jd'].fillna('').apply(lambda x: x.split())\n",
    "# remove stop-words\n",
    "tokenized_doc_cf = tokenized_doc_cf.apply(lambda x: [stemmer.stem(item) for item in x if item not in stopwords.words('english')])"
   ]
  },
  {
   "cell_type": "code",
   "execution_count": null,
   "metadata": {
    "id": "oGvhI0Z1hzzD"
   },
   "outputs": [],
   "source": [
    "#SFW\n",
    "# de-tokenization\n",
    "detokenized_doc = []\n",
    "for i in range(len(SFW_design)):\n",
    "    t = ' '.join(tokenized_doc[i])\n",
    "    detokenized_doc.append(t)"
   ]
  },
  {
   "cell_type": "code",
   "execution_count": null,
   "metadata": {
    "id": "eG9Dm7JjhzzD"
   },
   "outputs": [],
   "source": [
    "#CF\n",
    "# de-tokenization\n",
    "detokenized_doc_cf = []\n",
    "for i in range(len(CF_clean_design)):\n",
    "    t = ' '.join(tokenized_doc_cf[i])\n",
    "    detokenized_doc_cf.append(t)"
   ]
  },
  {
   "cell_type": "code",
   "execution_count": null,
   "metadata": {
    "id": "Zy20tZBjhzzD",
    "outputId": "2d597cad-d6c5-48bf-acd9-e05e02fb3933"
   },
   "outputs": [],
   "source": [
    "SFW_design['stemmed_clean_documents'] = detokenized_doc"
   ]
  },
  {
   "cell_type": "code",
   "execution_count": null,
   "metadata": {
    "id": "6zXV_HIEhzzD",
    "outputId": "af991a00-805f-4766-f19e-7a4cd1132d9f"
   },
   "outputs": [],
   "source": [
    "CF_clean_design['stemmed_clean_documents'] = detokenized_doc_cf"
   ]
  },
  {
   "cell_type": "code",
   "execution_count": null,
   "metadata": {
    "id": "fsHI0viwhzzE",
    "outputId": "34a8b83d-e7d8-43c7-a086-b45fbad80c44"
   },
   "outputs": [],
   "source": [
    "SFW_design"
   ]
  },
  {
   "cell_type": "code",
   "execution_count": null,
   "metadata": {
    "id": "jPBSU3pUhzzE",
    "outputId": "73807636-ebdd-4a00-f180-0aeec5f832ed"
   },
   "outputs": [],
   "source": [
    "CF_clean_design"
   ]
  },
  {
   "cell_type": "code",
   "execution_count": null,
   "metadata": {
    "id": "fUUNRVdMhzzE",
    "outputId": "1c9ebcef-59c2-413b-bd39-03d1c387b465"
   },
   "outputs": [],
   "source": [
    "design_sim = {'cf job titles': [], 'sfw job role': [], 'cf skills': [], 'sfw skill': [], 'sim score': []}\n",
    "\n",
    "for i in range(0, 10): #for i in range(0, len(CF_clean_design)): \n",
    "    scores = []\n",
    "    sfw_jobs = []\n",
    "    sfw_skills = []\n",
    "    for j in range(0, len(SFW_design)):\n",
    "        sfw = nlp(SFW_design['stemmed_clean_documents'][i])\n",
    "        cf = nlp(CF_clean_design['stemmed_clean_documents'][j])\n",
    "        #append items\n",
    "        scores.append(sfw.similarity(cf))\n",
    "        sfw_jobs.append(SFW_design['Job Role'][j])\n",
    "        sfw_skills.append(SFW_design['Skill Title'][j])\n",
    "    #append to dict    \n",
    "    design_sim['sim score'].append(scores)\n",
    "    design_sim['cf job titles'].append(CF_clean_design['Job Title'][i])\n",
    "    design_sim['cf skills'].append(CF_clean_design['Skills'][i])\n",
    "    design_sim['sfw job role'].append(sfw_jobs)\n",
    "    design_sim['sfw skill'].append(sfw_skills)\n",
    "    print(\"done\" + str(i))"
   ]
  },
  {
   "cell_type": "code",
   "execution_count": null,
   "metadata": {
    "id": "F5TxT0PMhzzF",
    "outputId": "29212e66-8846-4546-ee81-e0fc8a3e01a2"
   },
   "outputs": [],
   "source": [
    "design_sim"
   ]
  },
  {
   "cell_type": "code",
   "execution_count": null,
   "metadata": {
    "id": "8RR37mTUhzzG"
   },
   "outputs": [],
   "source": [
    "#3:11 - 3:15 (4mins) for 10 rows\n",
    "#for 1441 rows will take 9.6hrs"
   ]
  },
  {
   "cell_type": "code",
   "execution_count": null,
   "metadata": {
    "id": "uc9tBSkphzzG"
   },
   "outputs": [],
   "source": [
    "design_sim_df = pd.DataFrame(design_sim)"
   ]
  },
  {
   "cell_type": "code",
   "execution_count": null,
   "metadata": {
    "id": "tB0hIDnFhzzG",
    "outputId": "8fad6206-3755-4673-d22a-dfecec824116",
    "scrolled": true
   },
   "outputs": [],
   "source": [
    "design_sim_df"
   ]
  },
  {
   "cell_type": "code",
   "execution_count": null,
   "metadata": {
    "id": "EY3zcskKhzzG"
   },
   "outputs": [],
   "source": [
    "max_score_0_id = design_sim_df['sim score'][0].index(max(design_sim_df['sim score'][0]))"
   ]
  },
  {
   "cell_type": "code",
   "execution_count": null,
   "metadata": {
    "id": "FqQN8bZWhzzG",
    "outputId": "139b2573-666e-4fcd-fb57-b5860ba12406"
   },
   "outputs": [],
   "source": [
    "max_score_0_id"
   ]
  },
  {
   "cell_type": "code",
   "execution_count": null,
   "metadata": {
    "id": "VWhXEUS7hzzH",
    "outputId": "ae742284-5992-4c75-e64b-4f77007e0609"
   },
   "outputs": [],
   "source": [
    "design_sim_df['sfw skill'][0][73]"
   ]
  },
  {
   "cell_type": "code",
   "execution_count": null,
   "metadata": {
    "id": "uCoeOO5UhzzH",
    "outputId": "181aaf1b-3616-4d1b-d350-2f6c127ac742"
   },
   "outputs": [],
   "source": [
    "design_sim_df['cf skills'][0]"
   ]
  },
  {
   "cell_type": "code",
   "execution_count": null,
   "metadata": {
    "id": "o4PJgMTNhzzH"
   },
   "outputs": [],
   "source": [
    "#gets top 10 sim scores for row 0 in asc order \n",
    "top10 = sorted(range(len(design_sim_df['sim score'][0])), key=lambda i: design_sim_df['sim score'][0][i])[-10:]"
   ]
  },
  {
   "cell_type": "code",
   "execution_count": null,
   "metadata": {
    "id": "NYLDi1AphzzH"
   },
   "outputs": [],
   "source": [
    "#top 10 sfw skills that match cf skills set for row 0\n",
    "sfwskills = []\n",
    "for i in top10:\n",
    "    sfwskills.append(design_sim_df['sfw skill'][0][i])"
   ]
  },
  {
   "cell_type": "code",
   "execution_count": null,
   "metadata": {
    "id": "nkF7lFUmhzzH",
    "outputId": "51546a7e-c433-43c9-93f6-31e2b8792c7e"
   },
   "outputs": [],
   "source": [
    "sfwskills"
   ]
  },
  {
   "cell_type": "code",
   "execution_count": null,
   "metadata": {
    "id": "Tt-O72y0hzzI",
    "outputId": "34ac1862-7bc1-4e02-d143-0436c563f1fe"
   },
   "outputs": [],
   "source": [
    "design_sim_df['cf skills'][0]"
   ]
  },
  {
   "cell_type": "code",
   "execution_count": null,
   "metadata": {
    "id": "UoPQoPF1hzzI",
    "outputId": "2d213f79-09aa-497c-c97b-ccb149b1aaac"
   },
   "outputs": [],
   "source": [
    "#for each sfw find top n cf skills\n",
    "design_sim = {'sfw job role': [], 'cf job titles': [], 'sfw skill': [], 'cf skills': [], 'sim score': []}\n",
    "\n",
    "for i in range(0, len(SFW_design)):\n",
    "    scores = []\n",
    "    cf_jobs = []\n",
    "    cf_skills = []\n",
    "    for j in range(0, len(CF_clean_design)):\n",
    "        sfw = nlp(SFW_design['stemmed_clean_documents'][i])\n",
    "        cf = nlp(CF_clean_design['stemmed_clean_documents'][j])\n",
    "        #append items\n",
    "        scores.append(sfw.similarity(cf))\n",
    "        cf_jobs.append(CF_clean_design['Job Title'][j])\n",
    "        cf_skills.append(CF_clean_design['Skills'][j])\n",
    "    #append to dict    \n",
    "    design_sim['sim score'].append(scores)\n",
    "    design_sim['cf job titles'].append(cf_jobs)\n",
    "    design_sim['cf skills'].append(cf_jobs)\n",
    "    design_sim['sfw job role'].append(SFW_design['Job Role'][i])\n",
    "    design_sim['sfw skill'].append(SFW_design['Skill Title'][i])\n",
    "    "
   ]
  },
  {
   "cell_type": "markdown",
   "metadata": {
    "id": "9iswFrYChzzI"
   },
   "source": [
    "# Similarity using LSA"
   ]
  },
  {
   "cell_type": "code",
   "execution_count": null,
   "metadata": {
    "id": "dsYJ14yghzzI",
    "outputId": "2099e778-cd50-4355-dee9-4bd76c493290"
   },
   "outputs": [],
   "source": [
    "SFW_16"
   ]
  },
  {
   "cell_type": "code",
   "execution_count": null,
   "metadata": {
    "id": "rExQvpohhzzJ"
   },
   "outputs": [],
   "source": [
    "from sklearn.feature_extraction.text import TfidfVectorizer\n",
    "vectorizer = TfidfVectorizer(stop_words='english', smooth_idf=True)\n",
    "X = vectorizer.fit_transform(SFW_16['clean_documents'])"
   ]
  },
  {
   "cell_type": "code",
   "execution_count": null,
   "metadata": {
    "id": "DO0-y6XPhzzJ"
   },
   "outputs": [],
   "source": [
    "#FOR SIMILARITY\n",
    "from sklearn.decomposition import TruncatedSVD\n",
    "# SVD represent documents and terms in vectors (converting sparse vectors into dense vectors - LSA part)\n",
    "svd_model2 = TruncatedSVD(n_components=2, algorithm='randomized', n_iter=100, random_state=122)\n",
    "lsa2 = svd_model2.fit_transform(X)"
   ]
  },
  {
   "cell_type": "code",
   "execution_count": null,
   "metadata": {
    "id": "V1A2fibIhzzJ"
   },
   "outputs": [],
   "source": [
    "JD = CF_clean['Job Description'][0]"
   ]
  },
  {
   "cell_type": "code",
   "execution_count": null,
   "metadata": {
    "id": "odgVWvOjhzzK"
   },
   "outputs": [],
   "source": [
    "text2 = re.sub('[^A-Za-z0-9]+', ' ', JD)"
   ]
  },
  {
   "cell_type": "code",
   "execution_count": null,
   "metadata": {
    "id": "EONR59V1hzzK",
    "outputId": "38ee5327-748b-4986-d9a1-eec03d32d21a"
   },
   "outputs": [],
   "source": [
    "text2"
   ]
  },
  {
   "cell_type": "code",
   "execution_count": null,
   "metadata": {
    "id": "yxD8sFJthzzK"
   },
   "outputs": [],
   "source": [
    "text3 = text2.lower().split()"
   ]
  },
  {
   "cell_type": "code",
   "execution_count": null,
   "metadata": {
    "id": "G0VBJcJXhzzK"
   },
   "outputs": [],
   "source": [
    "text4 = [word for word in text3 if not word in stopwords.words()]"
   ]
  },
  {
   "cell_type": "code",
   "execution_count": null,
   "metadata": {
    "id": "CGHWKUobhzzL"
   },
   "outputs": [],
   "source": [
    "text4 = [stemmer.stem(word) for word in text4]"
   ]
  },
  {
   "cell_type": "code",
   "execution_count": null,
   "metadata": {
    "id": "3HXAseTXhzzL"
   },
   "outputs": [],
   "source": [
    "# de-tokenization\n",
    "t = ' '.join(text4)"
   ]
  },
  {
   "cell_type": "code",
   "execution_count": null,
   "metadata": {
    "id": "o7ySWlzfhzzL"
   },
   "outputs": [],
   "source": [
    "t = [t]"
   ]
  },
  {
   "cell_type": "code",
   "execution_count": null,
   "metadata": {
    "id": "OfgFI3ZyhzzL",
    "outputId": "7e7f631b-69eb-4b75-c92a-e3d06345c3a8"
   },
   "outputs": [],
   "source": [
    "t"
   ]
  },
  {
   "cell_type": "code",
   "execution_count": null,
   "metadata": {
    "id": "SuO4fTAWhzzL"
   },
   "outputs": [],
   "source": [
    "jd = vectorizer.fit_transform(t)"
   ]
  },
  {
   "cell_type": "code",
   "execution_count": null,
   "metadata": {
    "id": "nXN5rHWahzzL",
    "outputId": "f4e5916a-3599-4a16-ead3-c43aa1643787"
   },
   "outputs": [],
   "source": [
    "svd_model2 = TruncatedSVD(n_components=2, algorithm='randomized', n_iter=100, random_state=122)\n",
    "lsa_jd2 = svd_model2.fit_transform(jd)"
   ]
  },
  {
   "cell_type": "code",
   "execution_count": null,
   "metadata": {
    "id": "7Fhru5pdhzzM"
   },
   "outputs": [],
   "source": [
    "cosine_values = []\n",
    "similarity_perc = []\n",
    "for i in range(0, len(lsa2)):\n",
    "    cos = scipy.spatial.distance.cosine(lsa2[i], lsa_jd2)\n",
    "    cosine_values.append(cos)\n",
    "    similarity_perc.append(round((1-cos)*100,2))"
   ]
  },
  {
   "cell_type": "code",
   "execution_count": null,
   "metadata": {
    "id": "sheARBEshzzM",
    "outputId": "8f2440cc-6529-42a6-a634-96cc593d712a"
   },
   "outputs": [],
   "source": [
    "similarity_perc"
   ]
  },
  {
   "cell_type": "code",
   "execution_count": null,
   "metadata": {
    "id": "W_TQSRH4hzzM",
    "outputId": "46d364f9-0e45-4708-a472-85166134d099"
   },
   "outputs": [],
   "source": [
    "m = max(similarity_perc)\n",
    "m"
   ]
  },
  {
   "cell_type": "code",
   "execution_count": null,
   "metadata": {
    "id": "CLFnpEK2hzzM"
   },
   "outputs": [],
   "source": [
    "m = max(similarity_perc)\n",
    "index_of_maximum = np.where(similarity_perc == m)"
   ]
  },
  {
   "cell_type": "code",
   "execution_count": null,
   "metadata": {
    "id": "nNMQfbybhzzM",
    "outputId": "6f4fe307-a686-41d5-8a72-8da496882065"
   },
   "outputs": [],
   "source": [
    "index_of_maximum"
   ]
  },
  {
   "cell_type": "code",
   "execution_count": null,
   "metadata": {
    "id": "OuG0XCjmhzzM"
   },
   "outputs": [],
   "source": [
    "SFW_16.loc[920]"
   ]
  },
  {
   "cell_type": "code",
   "execution_count": null,
   "metadata": {
    "id": "SQojcblohzzN"
   },
   "outputs": [],
   "source": [
    "CF_clean.loc[0]"
   ]
  },
  {
   "cell_type": "code",
   "execution_count": null,
   "metadata": {
    "id": "9GBGFgDOhzzN",
    "scrolled": true
   },
   "outputs": [],
   "source": [
    "cf_skills = []\n",
    "for i in range(0, len(df_cf['Skills'])):\n",
    "    cf_skills.append(literal_eval(df_cf['Skills'][i]))"
   ]
  },
  {
   "cell_type": "code",
   "execution_count": null,
   "metadata": {
    "id": "UcXI5RrvhzzN",
    "outputId": "6b7566ad-82e4-4387-9094-042353afef42"
   },
   "outputs": [],
   "source": [
    "cf_skills"
   ]
  },
  {
   "cell_type": "code",
   "execution_count": null,
   "metadata": {
    "id": "kifctArHhzzO"
   },
   "outputs": [],
   "source": [
    "cf_skills_lower = [[w.lower() for w in line] for line in cf_skills]"
   ]
  },
  {
   "cell_type": "code",
   "execution_count": null,
   "metadata": {
    "id": "s5zvH3iAhzzO",
    "outputId": "aeecfc70-ac0f-4298-cc14-8af7263e2848",
    "scrolled": true
   },
   "outputs": [],
   "source": [
    "cf_skills_lower"
   ]
  },
  {
   "cell_type": "code",
   "execution_count": null,
   "metadata": {
    "id": "qkNlAC5ohzzQ",
    "outputId": "8d45842c-5975-4fd1-af7a-88f2d3bb82d2"
   },
   "outputs": [],
   "source": [
    "len(cf_skills_lower)"
   ]
  },
  {
   "cell_type": "code",
   "execution_count": null,
   "metadata": {
    "id": "uich__JdhzzQ"
   },
   "outputs": [],
   "source": [
    "#how to get unique skills from list of lists\n",
    "cf_skills_unique = []\n",
    "for x in cf_skills_lower:\n",
    "    if x not in cf_skills_unique:\n",
    "        cf_skills_unique.append(x)"
   ]
  },
  {
   "cell_type": "code",
   "execution_count": null,
   "metadata": {
    "id": "0asufBIghzzQ",
    "outputId": "870a1524-9514-43f0-d917-a4c9bf77c5af"
   },
   "outputs": [],
   "source": [
    "len(output)"
   ]
  },
  {
   "cell_type": "code",
   "execution_count": null,
   "metadata": {
    "id": "AMW_hKtzhzzQ",
    "outputId": "8548d548-d0ed-404d-8d4c-fcb24d93ee0a"
   },
   "outputs": [],
   "source": [
    "print(cf_skills_unique)"
   ]
  },
  {
   "cell_type": "code",
   "execution_count": null,
   "metadata": {
    "id": "f9NWiFu3hzzQ"
   },
   "outputs": [],
   "source": []
  },
  {
   "cell_type": "code",
   "execution_count": null,
   "metadata": {
    "id": "eKFXiY47hzzQ"
   },
   "outputs": [],
   "source": []
  }
 ],
 "metadata": {
  "colab": {
   "name": "Capstone Library.ipynb",
   "provenance": []
  },
  "kernelspec": {
   "display_name": "Python 3",
   "language": "python",
   "name": "python3"
  },
  "language_info": {
   "codemirror_mode": {
    "name": "ipython",
    "version": 3
   },
   "file_extension": ".py",
   "mimetype": "text/x-python",
   "name": "python",
   "nbconvert_exporter": "python",
   "pygments_lexer": "ipython3",
   "version": "3.8.5"
  }
 },
 "nbformat": 4,
 "nbformat_minor": 1
}
