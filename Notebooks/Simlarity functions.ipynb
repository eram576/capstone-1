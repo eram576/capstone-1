{
 "cells": [
  {
   "cell_type": "code",
   "execution_count": null,
   "metadata": {},
   "outputs": [],
   "source": [
    "import pandas as pd\n",
    "import numpy as np\n",
    "import re\n",
    "import string\n",
    "from bs4 import BeautifulSoup\n",
    "from ast import literal_eval\n",
    "import heapq\n",
    "import matplotlib.pyplot as plt\n",
    "import seaborn as sns\n",
    "from sklearn.utils import shuffle"
   ]
  },
  {
   "cell_type": "code",
   "execution_count": null,
   "metadata": {},
   "outputs": [],
   "source": [
    "import nltk\n",
    "from nltk.stem import PorterStemmer, WordNetLemmatizer\n",
    "from gensim.models import Word2Vec\n",
    "from sklearn.decomposition import PCA\n",
    "from matplotlib import pyplot\n",
    "from nltk.tokenize import sent_tokenize\n",
    "from nltk.corpus import stopwords"
   ]
  },
  {
   "cell_type": "code",
   "execution_count": null,
   "metadata": {},
   "outputs": [],
   "source": [
    "import spacy\n",
    "nlp = spacy.load(\"en_core_web_lg\")"
   ]
  },
  {
   "cell_type": "code",
   "execution_count": null,
   "metadata": {},
   "outputs": [],
   "source": [
    "CF  = pd.read_csv('CareersFutureCleaned.csv')"
   ]
  },
  {
   "cell_type": "code",
   "execution_count": null,
   "metadata": {
    "scrolled": true
   },
   "outputs": [],
   "source": [
    "CF"
   ]
  },
  {
   "cell_type": "code",
   "execution_count": null,
   "metadata": {
    "scrolled": true
   },
   "outputs": [],
   "source": [
    "CF['clean_jd'] = CF.apply(lambda x: str(x['Job Description']), axis=1)\n",
    "CF['clean_jd'] = CF['clean_jd'].apply(lambda x: re.sub('[^A-Za-z0-9]+', ' ', x))\n",
    "CF['clean_jd'] = CF[\"clean_jd\"].fillna('').apply(lambda x: x.lower())\n",
    "CF['Skills'] = CF['Skills'].apply(lambda x: eval(x))\n",
    "CF['Skills'] = CF[\"Skills\"].apply(lambda a: [x.lower() for x in a])\n",
    "CF['Industry'] = CF['Industry'].apply(lambda x: eval(x))"
   ]
  },
  {
   "cell_type": "code",
   "execution_count": null,
   "metadata": {},
   "outputs": [],
   "source": [
    "CF_jd_skills = CF[['clean_jd', 'Industry', 'Job Title', 'Skills']]"
   ]
  },
  {
   "cell_type": "code",
   "execution_count": null,
   "metadata": {},
   "outputs": [],
   "source": [
    "SFW  = pd.read_csv('sfw_sector.csv')"
   ]
  },
  {
   "cell_type": "code",
   "execution_count": null,
   "metadata": {
    "scrolled": true
   },
   "outputs": [],
   "source": [
    "SFW"
   ]
  },
  {
   "cell_type": "code",
   "execution_count": null,
   "metadata": {},
   "outputs": [],
   "source": [
    "SFW['Skill Title'][0]"
   ]
  },
  {
   "cell_type": "code",
   "execution_count": null,
   "metadata": {},
   "outputs": [],
   "source": [
    "SFW_new = pd.read_csv('sf_model_final.csv')"
   ]
  },
  {
   "cell_type": "code",
   "execution_count": null,
   "metadata": {
    "scrolled": true
   },
   "outputs": [],
   "source": [
    "SFW_new"
   ]
  },
  {
   "cell_type": "code",
   "execution_count": null,
   "metadata": {
    "scrolled": true
   },
   "outputs": [],
   "source": [
    "SFW_new2 = SFW_new.groupby(['Job_Role_Replaced', 'Sector']).agg({'Job Role': lambda series: list(series), 'Skill description': lambda series: list(series), 'Skill Title':lambda series: list(series)})"
   ]
  },
  {
   "cell_type": "code",
   "execution_count": null,
   "metadata": {
    "scrolled": true
   },
   "outputs": [],
   "source": [
    "SFW_new2.head()"
   ]
  },
  {
   "cell_type": "code",
   "execution_count": null,
   "metadata": {},
   "outputs": [],
   "source": [
    "SFW_new2.reset_index(inplace=True)"
   ]
  },
  {
   "cell_type": "code",
   "execution_count": null,
   "metadata": {
    "scrolled": true
   },
   "outputs": [],
   "source": [
    "SFW_new2"
   ]
  },
  {
   "cell_type": "code",
   "execution_count": null,
   "metadata": {},
   "outputs": [],
   "source": [
    "SFW_new2.to_csv('final_new_sfw.csv')"
   ]
  },
  {
   "cell_type": "code",
   "execution_count": null,
   "metadata": {},
   "outputs": [],
   "source": [
    "def to_lower(x):\n",
    "    y = []\n",
    "    for i in range(len(x)):\n",
    "        y.append(x[i].lower())\n",
    "    return y"
   ]
  },
  {
   "cell_type": "code",
   "execution_count": null,
   "metadata": {
    "scrolled": true
   },
   "outputs": [],
   "source": [
    "SFW_new2['Skill Title'] = SFW_new2['Skill Title'].apply(lambda x: to_lower(x))"
   ]
  },
  {
   "cell_type": "code",
   "execution_count": null,
   "metadata": {},
   "outputs": [],
   "source": [
    "skills_lib  = pd.read_csv('tableau no jobstreet 150321.csv')"
   ]
  },
  {
   "cell_type": "code",
   "execution_count": null,
   "metadata": {
    "scrolled": true
   },
   "outputs": [],
   "source": [
    "skills_lib"
   ]
  },
  {
   "cell_type": "code",
   "execution_count": null,
   "metadata": {},
   "outputs": [],
   "source": [
    "skills_cf = skills_lib"
   ]
  },
  {
   "cell_type": "code",
   "execution_count": null,
   "metadata": {
    "scrolled": true
   },
   "outputs": [],
   "source": [
    "skills_cf_new = skills_cf.sort_values('Score', ascending=False).drop_duplicates(['MyCFW_Skill'])"
   ]
  },
  {
   "cell_type": "code",
   "execution_count": null,
   "metadata": {},
   "outputs": [],
   "source": [
    "skills_cf_new"
   ]
  },
  {
   "cell_type": "code",
   "execution_count": null,
   "metadata": {
    "scrolled": true
   },
   "outputs": [],
   "source": [
    "CF_jd_skills"
   ]
  },
  {
   "cell_type": "code",
   "execution_count": null,
   "metadata": {
    "scrolled": false
   },
   "outputs": [],
   "source": [
    "mydict = dict(zip(skills_cf_new['MyCFW_Skill'], skills_cf_new['Skill Title V2'])) # key is cf skills, value is sfw skills"
   ]
  },
  {
   "cell_type": "code",
   "execution_count": null,
   "metadata": {},
   "outputs": [],
   "source": [
    "mydict"
   ]
  },
  {
   "cell_type": "code",
   "execution_count": null,
   "metadata": {},
   "outputs": [],
   "source": [
    "def checker(x):\n",
    "    new_list = []\n",
    "    for i in range(0, len(x)):\n",
    "        if x[i] in mydict.keys():\n",
    "            new_list.append(mydict.get(x[i]))\n",
    "        else:\n",
    "            new_list.append(x[i])\n",
    "    return new_list"
   ]
  },
  {
   "cell_type": "code",
   "execution_count": null,
   "metadata": {},
   "outputs": [],
   "source": [
    "CF_jd_skills['skills_replaced'] = CF_jd_skills['Skills'].apply(lambda x: checker(x))"
   ]
  },
  {
   "cell_type": "code",
   "execution_count": null,
   "metadata": {
    "scrolled": true
   },
   "outputs": [],
   "source": [
    "CF_jd_skills"
   ]
  },
  {
   "cell_type": "code",
   "execution_count": null,
   "metadata": {},
   "outputs": [],
   "source": [
    "#only 1 industry\n",
    "CF_jd_skills_1_ind = CF_jd_skills.loc[np.array(list(map(len, CF_jd_skills['Industry'].values)))==1]                                 "
   ]
  },
  {
   "cell_type": "code",
   "execution_count": null,
   "metadata": {
    "scrolled": true
   },
   "outputs": [],
   "source": [
    "CF_jd_skills_1_ind['Industry_nolist'] = CF_jd_skills_1_ind['Industry'].apply(lambda x: ''.join(x))"
   ]
  },
  {
   "cell_type": "code",
   "execution_count": null,
   "metadata": {
    "scrolled": true
   },
   "outputs": [],
   "source": [
    "CF_jd_skills_1_ind"
   ]
  },
  {
   "cell_type": "code",
   "execution_count": null,
   "metadata": {},
   "outputs": [],
   "source": [
    "CF_jd_skills_1_ind.to_csv('single_ind_cf.csv')"
   ]
  },
  {
   "cell_type": "code",
   "execution_count": null,
   "metadata": {
    "scrolled": true
   },
   "outputs": [],
   "source": [
    "CF_jd_skills_1_ind = pd.read_csv('single_ind_cf.csv')\n",
    "CF_jd_skills_1_ind"
   ]
  },
  {
   "cell_type": "code",
   "execution_count": null,
   "metadata": {
    "scrolled": true
   },
   "outputs": [],
   "source": [
    "SFW = pd.read_csv('final_new_sfw.csv')\n",
    "SFW"
   ]
  },
  {
   "cell_type": "markdown",
   "metadata": {},
   "source": [
    "# Infocomm Tech -> IT"
   ]
  },
  {
   "cell_type": "code",
   "execution_count": null,
   "metadata": {},
   "outputs": [],
   "source": [
    "selection = ['Information Technology']\n",
    "\n",
    "IT = CF_jd_skills_1_ind.Industry.apply(lambda x: any(item for item in selection if item in x))\n",
    "\n",
    "IT = CF_jd_skills_1_ind[IT]"
   ]
  },
  {
   "cell_type": "code",
   "execution_count": null,
   "metadata": {},
   "outputs": [],
   "source": [
    "len(IT)"
   ]
  },
  {
   "cell_type": "code",
   "execution_count": null,
   "metadata": {},
   "outputs": [],
   "source": [
    "IT.reset_index(inplace=True)"
   ]
  },
  {
   "cell_type": "code",
   "execution_count": null,
   "metadata": {
    "scrolled": true
   },
   "outputs": [],
   "source": [
    "sfw_sector_IT = SFW[SFW['Sector'] == \"Infocomm Technology\"]"
   ]
  },
  {
   "cell_type": "code",
   "execution_count": null,
   "metadata": {
    "scrolled": true
   },
   "outputs": [],
   "source": [
    "sfw_sector_IT.reset_index(inplace=True)"
   ]
  },
  {
   "cell_type": "code",
   "execution_count": null,
   "metadata": {
    "scrolled": true
   },
   "outputs": [],
   "source": [
    "sfw_sector_IT"
   ]
  },
  {
   "cell_type": "code",
   "execution_count": null,
   "metadata": {
    "scrolled": true
   },
   "outputs": [],
   "source": [
    "#skill and job title matching using job description\n",
    "design_sim = {'cf job titles': [], 'sfw job role': [], 'sim score': []}\n",
    "\n",
    "scores_main = []\n",
    "sfw_jobs_main = []\n",
    "#cf = nlp(str(CF_jd_skills_IT.iloc[1]['skills_replaced']))\n",
    "for i in range(0, len(IT)):\n",
    "    scores = []\n",
    "    sfw_jobs = []\n",
    "    cf = nlp(str(IT.iloc[i]['skills_replaced']))\n",
    "    for j in range(0, len(sfw_sector_IT)):\n",
    "        sfw = nlp(str(sfw_sector_IT['Skill Title'][j]))\n",
    "        #append items\n",
    "        scores.append(sfw.similarity(cf))\n",
    "        sfw_jobs.append(sfw_sector_IT['Job_Role_Replaced'][j])\n",
    "    scores_main.append(scores)\n",
    "    sfw_jobs_main.append(sfw_jobs)\n",
    "    print(\"done cf job role: \" + str(i))"
   ]
  },
  {
   "cell_type": "code",
   "execution_count": null,
   "metadata": {},
   "outputs": [],
   "source": [
    "len(scores_main[72])"
   ]
  },
  {
   "cell_type": "code",
   "execution_count": null,
   "metadata": {},
   "outputs": [],
   "source": [
    "len(scores_main)"
   ]
  },
  {
   "cell_type": "code",
   "execution_count": null,
   "metadata": {},
   "outputs": [],
   "source": [
    "IT.iloc[1]"
   ]
  },
  {
   "cell_type": "code",
   "execution_count": null,
   "metadata": {},
   "outputs": [],
   "source": [
    "import heapq\n",
    "ind1, ind2, ind3 = heapq.nlargest(3, range(len(scores)), key=scores.__getitem__)"
   ]
  },
  {
   "cell_type": "code",
   "execution_count": null,
   "metadata": {
    "scrolled": true
   },
   "outputs": [],
   "source": [
    "sfw_sector_IT.iloc[ind1]"
   ]
  },
  {
   "cell_type": "code",
   "execution_count": null,
   "metadata": {},
   "outputs": [],
   "source": [
    "sfw_sector_IT.iloc[ind2]"
   ]
  },
  {
   "cell_type": "code",
   "execution_count": null,
   "metadata": {},
   "outputs": [],
   "source": [
    "sfw_sector_IT.iloc[ind3]"
   ]
  },
  {
   "cell_type": "code",
   "execution_count": null,
   "metadata": {
    "scrolled": true
   },
   "outputs": [],
   "source": [
    "closest_1_sfw_jobs = []\n",
    "closest_2_sfw_jobs = []\n",
    "closest_3_sfw_jobs = []\n",
    "cf_jobs = []\n",
    "for i in range(73):\n",
    "    ind1, ind2, ind3 = heapq.nlargest(3, range(len(scores_main[i])), key=scores_main[i].__getitem__)\n",
    "    closest_1_sfw_jobs.append(sfw_sector_IT['Job_Role_Replaced'][ind1])\n",
    "    closest_2_sfw_jobs.append(sfw_sector_IT['Job_Role_Replaced'][ind2])\n",
    "    closest_3_sfw_jobs.append(sfw_sector_IT['Job_Role_Replaced'][ind3])\n",
    "    cf_jobs.append(IT['Job Title'][i])"
   ]
  },
  {
   "cell_type": "code",
   "execution_count": null,
   "metadata": {},
   "outputs": [],
   "source": [
    "df_IT_72 = pd.DataFrame({'cf_jobs':cf_jobs, 'closest_1_sfw_jobs':closest_1_sfw_jobs, 'closest_2_sfw_jobs':closest_2_sfw_jobs, 'closest_3_sfw_jobs':closest_3_sfw_jobs})"
   ]
  },
  {
   "cell_type": "code",
   "execution_count": null,
   "metadata": {
    "scrolled": true
   },
   "outputs": [],
   "source": [
    "df_IT_72.head(50)"
   ]
  },
  {
   "cell_type": "code",
   "execution_count": null,
   "metadata": {},
   "outputs": [],
   "source": [
    "CF_jd_skills_1_ind['Industry_nolist'].unique()"
   ]
  },
  {
   "cell_type": "code",
   "execution_count": null,
   "metadata": {},
   "outputs": [],
   "source": [
    "skills_cf_new['Sector'].unique()"
   ]
  },
  {
   "cell_type": "markdown",
   "metadata": {},
   "source": [
    "# Fin Serv"
   ]
  },
  {
   "cell_type": "code",
   "execution_count": null,
   "metadata": {
    "scrolled": true
   },
   "outputs": [],
   "source": [
    "fin_serv = [['Banking and Finance'], ['Insurance'], ['Consulting'], ['Risk Management']]\n",
    "fin_serv_dataframes = []\n",
    "\n",
    "for i in fin_serv:\n",
    "    df = CF_jd_skills_1_ind.Industry.apply(lambda x: any(item for item in i if item in x))\n",
    "    df = CF_jd_skills_1_ind[df]\n",
    "    df.reset_index(inplace=True)\n",
    "    fin_serv_dataframes.append(df)\n",
    "\n",
    "fin_serv_df = pd.concat(fin_serv_dataframes)\n",
    "fin_serv_df.reset_index(inplace=True)\n",
    "\n",
    "sfw_sector_fin_serv = SFW[SFW['Sector'] == \"Financial Services\"]\n",
    "sfw_sector_fin_serv.reset_index(inplace=True)"
   ]
  },
  {
   "cell_type": "code",
   "execution_count": null,
   "metadata": {
    "scrolled": true
   },
   "outputs": [],
   "source": [
    "fin_serv_df"
   ]
  },
  {
   "cell_type": "code",
   "execution_count": null,
   "metadata": {},
   "outputs": [],
   "source": [
    "print(len(fin_serv_df))\n",
    "print(len(sfw_sector_fin_serv))"
   ]
  },
  {
   "cell_type": "code",
   "execution_count": null,
   "metadata": {
    "scrolled": true
   },
   "outputs": [],
   "source": [
    "fin_serv_sim = {'cf job titles': [], 'sfw job role': [], 'sim score': []}\n",
    "\n",
    "scores_main = []\n",
    "sfw_jobs_main = []\n",
    "\n",
    "for i in range(0, len(fin_serv_df)):\n",
    "    scores = []\n",
    "    sfw_jobs = []\n",
    "    cf = nlp(str(fin_serv_df.iloc[i]['skills_replaced']))\n",
    "    for j in range(0, len(sfw_sector_fin_serv)):\n",
    "        sfw = nlp(sfw_sector_fin_serv['Skill Title'][j])\n",
    "        scores.append(sfw.similarity(cf))\n",
    "        sfw_jobs.append(sfw_sector_fin_serv['Job_Role_Replaced'][j])\n",
    "    scores_main.append(scores)\n",
    "    sfw_jobs_main.append(sfw_jobs)\n",
    "    print(\"done cf job role: \" + str(i))"
   ]
  },
  {
   "cell_type": "code",
   "execution_count": null,
   "metadata": {
    "scrolled": true
   },
   "outputs": [],
   "source": [
    "closest_1_sfw_jobs = []\n",
    "closest_1_score = []\n",
    "\n",
    "closest_2_sfw_jobs = []\n",
    "closest_2_score = []\n",
    "\n",
    "closest_3_sfw_jobs = []\n",
    "closest_3_score = []\n",
    "cf_jobs = []\n",
    "\n",
    "for i in range(len(scores_main)):\n",
    "    ind1, ind2, ind3 = heapq.nlargest(3, range(len(scores_main[i])), key=scores_main[i].__getitem__)\n",
    "    closest_1_sfw_jobs.append(sfw_sector_fin_serv['Job_Role_Replaced'][ind1])\n",
    "    closest_1_score.append(scores_main[ind1])\n",
    "    \n",
    "    closest_2_sfw_jobs.append(sfw_sector_fin_serv['Job_Role_Replaced'][ind2])\n",
    "    closest_2_score.append(scores_main[ind2])\n",
    "    \n",
    "    closest_3_sfw_jobs.append(sfw_sector_fin_serv['Job_Role_Replaced'][ind3])\n",
    "    closest_3_score.append(scores_main[ind3])\n",
    "    cf_jobs.append(fin_serv_df['Job Title'][i])\n",
    "\n",
    "df_fin_serv = pd.DataFrame({'cf_jobs':cf_jobs, 'closest_1_sfw_jobs':closest_1_sfw_jobs, 'closest_1_score':closest_1_score, 'closest_2_sfw_jobs':closest_2_sfw_jobs, 'closest_2_score':closest_1_score, 'closest_3_sfw_jobs':closest_3_sfw_jobs, 'closest_3_score':closest_1_score})\n",
    "df_fin_serv.head(50)"
   ]
  },
  {
   "cell_type": "markdown",
   "metadata": {},
   "source": [
    "# Acc"
   ]
  },
  {
   "cell_type": "code",
   "execution_count": null,
   "metadata": {},
   "outputs": [],
   "source": [
    "acc = [['Accounting / Auditing / Taxation']]\n",
    "acc_dataframes = []\n",
    "\n",
    "for i in acc:\n",
    "    df = CF_jd_skills_1_ind.Industry.apply(lambda x: any(item for item in i if item in x))\n",
    "    df = CF_jd_skills_1_ind[df]\n",
    "    df.reset_index(inplace=True)\n",
    "    acc_dataframes.append(df)\n",
    "\n",
    "acc_df = pd.concat(acc_dataframes)\n",
    "acc_df.reset_index(inplace=True)\n",
    "\n",
    "sfw_sector_acc = SFW[SFW['Sector'] == \"Accountancy\"]\n",
    "sfw_sector_acc.reset_index(inplace=True)"
   ]
  },
  {
   "cell_type": "code",
   "execution_count": null,
   "metadata": {},
   "outputs": [],
   "source": [
    "print(len(acc_df))\n",
    "print(len(sfw_sector_acc))"
   ]
  },
  {
   "cell_type": "code",
   "execution_count": null,
   "metadata": {
    "scrolled": true
   },
   "outputs": [],
   "source": [
    "acc_sim = {'cf job titles': [], 'sfw job role': [], 'sim score': []}\n",
    "\n",
    "scores_main = []\n",
    "sfw_jobs_main = []\n",
    "\n",
    "for i in range(0, len(acc_df)):\n",
    "    scores = []\n",
    "    sfw_jobs = []\n",
    "    cf = nlp(str(acc_df.iloc[i]['skills_replaced']))\n",
    "    \n",
    "    for j in range(0, len(sfw_sector_acc)):\n",
    "        sfw = nlp(str(sfw_sector_acc['Skill Title'][j]))\n",
    "        scores.append(sfw.similarity(cf))\n",
    "        sfw_jobs.append(sfw_sector_acc['Job_Role_Replaced'][j])\n",
    "        \n",
    "    scores_main.append(scores)\n",
    "    sfw_jobs_main.append(sfw_jobs)\n",
    "    print(\"done cf job role: \" + str(i))"
   ]
  },
  {
   "cell_type": "code",
   "execution_count": null,
   "metadata": {
    "scrolled": true
   },
   "outputs": [],
   "source": [
    "len(scores_main)"
   ]
  },
  {
   "cell_type": "code",
   "execution_count": null,
   "metadata": {},
   "outputs": [],
   "source": [
    "closest_1_sfw_jobs = []\n",
    "closest_1_score = []\n",
    "\n",
    "closest_2_sfw_jobs = []\n",
    "closest_2_score = []\n",
    "\n",
    "closest_3_sfw_jobs = []\n",
    "closest_3_score = []\n",
    "cf_jobs = []\n",
    "\n",
    "for i in range(len(scores_main)):\n",
    "    ind1, ind2, ind3 = heapq.nlargest(3, range(len(scores_main[i])), key=scores_main[i].__getitem__)\n",
    "    closest_1_sfw_jobs.append(sfw_sector_acc['Job_Role_Replaced'][ind1])\n",
    "    closest_1_score.append(scores_main[i][ind1])\n",
    "    \n",
    "    closest_2_sfw_jobs.append(sfw_sector_acc['Job_Role_Replaced'][ind2])\n",
    "    closest_2_score.append(scores_main[i][ind2])\n",
    "    \n",
    "    closest_3_sfw_jobs.append(sfw_sector_acc['Job_Role_Replaced'][ind3])\n",
    "    closest_3_score.append(scores_main[i][ind3])\n",
    "    cf_jobs.append(acc_df['Job Title'][i])\n",
    "\n",
    "df_acc = pd.DataFrame({'cf_jobs':cf_jobs, 'closest_1_sfw_jobs':closest_1_sfw_jobs, 'closest_1_score':closest_1_score, 'closest_2_sfw_jobs':closest_2_sfw_jobs, 'closest_2_score':closest_2_score, 'closest_3_sfw_jobs':closest_3_sfw_jobs, 'closest_3_score':closest_3_score})\n",
    "df_acc.head(50)"
   ]
  },
  {
   "cell_type": "code",
   "execution_count": null,
   "metadata": {},
   "outputs": [],
   "source": [
    "df_acc.to_csv('accounting.csv')"
   ]
  },
  {
   "cell_type": "markdown",
   "metadata": {},
   "source": [
    "# IT"
   ]
  },
  {
   "cell_type": "code",
   "execution_count": null,
   "metadata": {},
   "outputs": [],
   "source": [
    "#mapped to infocomm tech\n",
    "IT = [['Information Technology']]\n",
    "IT_dataframes = []\n",
    "\n",
    "for i in IT:\n",
    "    df = CF_jd_skills_1_ind.Industry.apply(lambda x: any(item for item in i if item in x))\n",
    "    df = CF_jd_skills_1_ind[df]\n",
    "    df.reset_index(inplace=True)\n",
    "    IT_dataframes.append(df)\n",
    "\n",
    "IT_df = pd.concat(IT_dataframes)\n",
    "IT_df.reset_index(inplace=True)\n",
    "\n",
    "sfw_sector_IT = SFW[SFW['Sector'] == \"Infocomm Technology\"]\n",
    "sfw_sector_IT.reset_index(inplace=True)\n",
    "\n",
    "print(len(IT_df))\n",
    "print(len(sfw_sector_IT))"
   ]
  },
  {
   "cell_type": "code",
   "execution_count": null,
   "metadata": {},
   "outputs": [],
   "source": [
    "IT_sim = {'cf job titles': [], 'sfw job role': [], 'sim score': []}\n",
    "\n",
    "scores_main = []\n",
    "sfw_jobs_main = []\n",
    "\n",
    "for i in range(0, len(IT_df)):\n",
    "    scores = []\n",
    "    sfw_jobs = []\n",
    "    cf = nlp(str(IT_df.iloc[i]['skills_replaced']))\n",
    "    \n",
    "    for j in range(0, len(sfw_sector_IT)):\n",
    "        sfw = nlp(sfw_sector_IT['Skill Title'][j])\n",
    "        scores.append(sfw.similarity(cf))\n",
    "        sfw_jobs.append(sfw_sector_IT['Job_Role_Replaced'][j])\n",
    "        \n",
    "    scores_main.append(scores)\n",
    "    sfw_jobs_main.append(sfw_jobs)\n",
    "    print(\"done cf job role: \" + str(i))"
   ]
  },
  {
   "cell_type": "code",
   "execution_count": null,
   "metadata": {},
   "outputs": [],
   "source": [
    "closest_1_sfw_jobs = []\n",
    "closest_1_score = []\n",
    "\n",
    "closest_2_sfw_jobs = []\n",
    "closest_2_score = []\n",
    "\n",
    "closest_3_sfw_jobs = []\n",
    "closest_3_score = []\n",
    "cf_jobs = []\n",
    "\n",
    "for i in range(len(scores_main)):\n",
    "    ind1, ind2, ind3 = heapq.nlargest(3, range(len(scores_main[i])), key=scores_main[i].__getitem__)\n",
    "    closest_1_sfw_jobs.append(sfw_sector_IT['Job_Role_Replaced'][ind1])\n",
    "    closest_1_score.append(scores_main[i][ind1])\n",
    "    \n",
    "    closest_2_sfw_jobs.append(sfw_sector_IT['Job_Role_Replaced'][ind2])\n",
    "    closest_2_score.append(scores_main[i][ind2])\n",
    "    \n",
    "    closest_3_sfw_jobs.append(sfw_sector_IT['Job_Role_Replaced'][ind3])\n",
    "    closest_3_score.append(scores_main[i][ind3])\n",
    "    cf_jobs.append(IT_df['Job Title'][i])\n",
    "\n",
    "df_acc = pd.DataFrame({'cf_jobs':cf_jobs, 'closest_1_sfw_jobs':closest_1_sfw_jobs, 'closest_1_score':closest_1_score, 'closest_2_sfw_jobs':closest_2_sfw_jobs, 'closest_2_score':closest_2_score, 'closest_3_sfw_jobs':closest_3_sfw_jobs, 'closest_3_score':closest_3_score})\n",
    "df_acc.head(50)"
   ]
  },
  {
   "cell_type": "markdown",
   "metadata": {},
   "source": [
    "# Design"
   ]
  },
  {
   "cell_type": "code",
   "execution_count": null,
   "metadata": {},
   "outputs": [],
   "source": [
    "#mapped to design\n",
    "des = [['Architecture / Interior Design'], ['Design']]\n",
    "des_dataframes = []\n",
    "\n",
    "for i in IT:\n",
    "    df = CF_jd_skills_1_ind.Industry.apply(lambda x: any(item for item in i if item in x))\n",
    "    df = CF_jd_skills_1_ind[df]\n",
    "    df.reset_index(inplace=True)\n",
    "    des_dataframes.append(df)\n",
    "\n",
    "design_df = pd.concat(des_dataframes)\n",
    "\n",
    "sfw_sector_des = SFW[SFW['Sector'] == \"Design\"]\n",
    "sfw_sector_des.reset_index(inplace=True)\n",
    "\n",
    "print(len(design_df))\n",
    "print(len(sfw_sector_des))"
   ]
  },
  {
   "cell_type": "code",
   "execution_count": null,
   "metadata": {},
   "outputs": [],
   "source": [
    "des_sim = {'cf job titles': [], 'sfw job role': [], 'sim score': []}\n",
    "\n",
    "scores_main = []\n",
    "sfw_jobs_main = []\n",
    "\n",
    "for i in range(0, len(design_df)):\n",
    "    scores = []\n",
    "    sfw_jobs = []\n",
    "    cf = nlp(str(design_df.iloc[i]['skills_replaced']))\n",
    "    \n",
    "    for j in range(0, len(sfw_sector_des)):\n",
    "        sfw = nlp(sfw_sector_des['Skill Title'][j])\n",
    "        scores.append(sfw.similarity(cf))\n",
    "        sfw_jobs.append(sfw_sector_des['Job_Role_Replaced'][j])\n",
    "        \n",
    "    scores_main.append(scores)\n",
    "    sfw_jobs_main.append(sfw_jobs)\n",
    "    print(\"done cf job role: \" + str(i))"
   ]
  },
  {
   "cell_type": "code",
   "execution_count": null,
   "metadata": {},
   "outputs": [],
   "source": [
    "closest_1_sfw_jobs = []\n",
    "closest_1_score = []\n",
    "\n",
    "closest_2_sfw_jobs = []\n",
    "closest_2_score = []\n",
    "\n",
    "closest_3_sfw_jobs = []\n",
    "closest_3_score = []\n",
    "cf_jobs = []\n",
    "\n",
    "for i in range(len(scores_main)):\n",
    "    ind1, ind2, ind3 = heapq.nlargest(3, range(len(scores_main[i])), key=scores_main[i].__getitem__)\n",
    "    closest_1_sfw_jobs.append(sfw_sector_des['Job_Role_Replaced'][ind1])\n",
    "    closest_1_score.append(scores_main[i][ind1])\n",
    "    \n",
    "    closest_2_sfw_jobs.append(sfw_sector_des['Job_Role_Replaced'][ind2])\n",
    "    closest_2_score.append(scores_main[i][ind2])\n",
    "    \n",
    "    closest_3_sfw_jobs.append(sfw_sector_des['Job_Role_Replaced'][ind3])\n",
    "    closest_3_score.append(scores_main[i][ind3])\n",
    "    cf_jobs.append(design_df['Job Title'][i])\n",
    "\n",
    "df_acc = pd.DataFrame({'cf_jobs':cf_jobs, 'closest_1_sfw_jobs':closest_1_sfw_jobs, 'closest_1_score':closest_1_score, 'closest_2_sfw_jobs':closest_2_sfw_jobs, 'closest_2_score':closest_2_score, 'closest_3_sfw_jobs':closest_3_sfw_jobs, 'closest_3_score':closest_3_score})\n",
    "df_acc.head(50)"
   ]
  },
  {
   "cell_type": "markdown",
   "metadata": {},
   "source": [
    "# Education"
   ]
  },
  {
   "cell_type": "code",
   "execution_count": null,
   "metadata": {},
   "outputs": [],
   "source": [
    "edu = [['Education and Training']]\n",
    "edu_dataframes = []\n",
    "\n",
    "for i in edu:\n",
    "    df = CF_jd_skills_1_ind.Industry.apply(lambda x: any(item for item in i if item in x))\n",
    "    df = CF_jd_skills_1_ind[df]\n",
    "    df.reset_index(inplace=True)\n",
    "    edu_dataframes.append(df)\n",
    "\n",
    "edu_df = pd.concat(edu_dataframes)\n",
    "edu_df.reset_index(inplace=True)\n",
    "\n",
    "sfw_sector_edu = SFW[SFW['Sector'] == \"Training and Adult Education\"]\n",
    "sfw_sector_edu.reset_index(inplace=True)\n",
    "\n",
    "print(len(edu_df))\n",
    "print(len(sfw_sector_edu))"
   ]
  },
  {
   "cell_type": "code",
   "execution_count": null,
   "metadata": {
    "scrolled": true
   },
   "outputs": [],
   "source": [
    "edu_sim = {'cf job titles': [], 'sfw job role': [], 'sim score': []}\n",
    "\n",
    "scores_main = []\n",
    "sfw_jobs_main = []\n",
    "\n",
    "for i in range(0, len(edu_df)):\n",
    "    scores = []\n",
    "    sfw_jobs = []\n",
    "    cf = nlp(str(edu_df.iloc[i]['skills_replaced']))\n",
    "    \n",
    "    for j in range(0, len(sfw_sector_edu)):\n",
    "        sfw = nlp(str(sfw_sector_edu['Skill Title'][j]))\n",
    "        scores.append(sfw.similarity(cf))\n",
    "        sfw_jobs.append(sfw_sector_edu['Job Role'][j])\n",
    "        \n",
    "    scores_main.append(scores)\n",
    "    sfw_jobs_main.append(sfw_jobs)\n",
    "    print(\"done cf job role: \" + str(i))"
   ]
  },
  {
   "cell_type": "code",
   "execution_count": null,
   "metadata": {},
   "outputs": [],
   "source": [
    "closest_1_sfw_jobs = []\n",
    "closest_1_score = []\n",
    "\n",
    "closest_2_sfw_jobs = []\n",
    "closest_2_score = []\n",
    "\n",
    "closest_3_sfw_jobs = []\n",
    "closest_3_score = []\n",
    "cf_jobs = []\n",
    "\n",
    "for i in range(len(scores_main)):\n",
    "    ind1, ind2, ind3 = heapq.nlargest(3, range(len(scores_main[i])), key=scores_main[i].__getitem__)\n",
    "    closest_1_sfw_jobs.append(sfw_sector_edu['Job Role'][ind1])\n",
    "    closest_1_score.append(scores_main[i][ind1])\n",
    "    \n",
    "    closest_2_sfw_jobs.append(sfw_sector_edu['Job Role'][ind2])\n",
    "    closest_2_score.append(scores_main[i][ind2])\n",
    "    \n",
    "    closest_3_sfw_jobs.append(sfw_sector_edu['Job Role'][ind3])\n",
    "    closest_3_score.append(scores_main[i][ind3])\n",
    "    cf_jobs.append(edu_df['Job Title'][i])\n",
    "\n",
    "df_edu = pd.DataFrame({'cf_jobs':cf_jobs, 'closest_1_sfw_jobs':closest_1_sfw_jobs, 'closest_1_score':closest_1_score, 'closest_2_sfw_jobs':closest_2_sfw_jobs, 'closest_2_score':closest_1_score, 'closest_3_sfw_jobs':closest_3_sfw_jobs, 'closest_3_score':closest_1_score})\n",
    "df_edu.head(50)"
   ]
  },
  {
   "cell_type": "code",
   "execution_count": null,
   "metadata": {},
   "outputs": [],
   "source": [
    "df_edu.to_csv('education.csv')"
   ]
  },
  {
   "cell_type": "markdown",
   "metadata": {},
   "source": [
    "# Engine"
   ]
  },
  {
   "cell_type": "code",
   "execution_count": null,
   "metadata": {},
   "outputs": [],
   "source": [
    "engine = [['Engineering']]\n",
    "engine_dataframes = []\n",
    "\n",
    "for i in engine:\n",
    "    df = CF_jd_skills_1_ind.Industry.apply(lambda x: any(item for item in i if item in x))\n",
    "    df = CF_jd_skills_1_ind[df]\n",
    "    df.reset_index(inplace=True)\n",
    "    engine_dataframes.append(df)\n",
    "\n",
    "engine_df = pd.concat(engine_dataframes)\n",
    "engine_df.reset_index(inplace=True)\n",
    "\n",
    "sfw_sector_engine = SFW[SFW['Sector'] == \"Engineering Services\"]\n",
    "sfw_sector_engine.reset_index(inplace=True)\n",
    "\n",
    "print(len(engine_df))\n",
    "print(len(sfw_sector_engine))"
   ]
  },
  {
   "cell_type": "code",
   "execution_count": null,
   "metadata": {},
   "outputs": [],
   "source": [
    "engine_sim = {'cf job titles': [], 'sfw job role': [], 'sim score': []}\n",
    "\n",
    "scores_main = []\n",
    "sfw_jobs_main = []\n",
    "\n",
    "for i in range(0, len(engine_df)):\n",
    "    scores = []\n",
    "    sfw_jobs = []\n",
    "    cf = nlp(str(engine_df.iloc[i]['skills_replaced']))\n",
    "    \n",
    "    for j in range(0, len(sfw_sector_engine)):\n",
    "        sfw = nlp(sfw_sector_engine['Skill Title'][j])\n",
    "        scores.append(sfw.similarity(cf))\n",
    "        sfw_jobs.append(sfw_sector_engine['Job_Role_Replaced'][j])\n",
    "        \n",
    "    scores_main.append(scores)\n",
    "    sfw_jobs_main.append(sfw_jobs)\n",
    "    print(\"done cf job role: \" + str(i))"
   ]
  },
  {
   "cell_type": "code",
   "execution_count": null,
   "metadata": {},
   "outputs": [],
   "source": [
    "closest_1_sfw_jobs = []\n",
    "closest_1_score = []\n",
    "\n",
    "closest_2_sfw_jobs = []\n",
    "closest_2_score = []\n",
    "\n",
    "closest_3_sfw_jobs = []\n",
    "closest_3_score = []\n",
    "cf_jobs = []\n",
    "\n",
    "for i in range(len(scores_main)):\n",
    "    ind1, ind2, ind3 = heapq.nlargest(3, range(len(scores_main[i])), key=scores_main[i].__getitem__)\n",
    "    closest_1_sfw_jobs.append(sfw_sector_acc['Job_Role_Replaced'][ind1])\n",
    "    closest_1_score.append(scores_main[ind1])\n",
    "    \n",
    "    closest_2_sfw_jobs.append(sfw_sector_acc['Job_Role_Replaced'][ind2])\n",
    "    closest_2_score.append(scores_main[ind2])\n",
    "    \n",
    "    closest_3_sfw_jobs.append(sfw_sector_acc['Job_Role_Replaced'][ind3])\n",
    "    closest_3_score.append(scores_main[ind3])\n",
    "    cf_jobs.append(acc_df['Job Title'][i])\n",
    "\n",
    "df_acc = pd.DataFrame({'cf_jobs':cf_jobs, 'closest_1_sfw_jobs':closest_1_sfw_jobs, 'closest_1_score':closest_1_score, 'closest_2_sfw_jobs':closest_2_sfw_jobs, 'closest_2_score':closest_1_score, 'closest_3_sfw_jobs':closest_3_sfw_jobs, 'closest_3_score':closest_1_score})\n",
    "df_acc.head(50)"
   ]
  },
  {
   "cell_type": "markdown",
   "metadata": {},
   "source": [
    "# Tourism"
   ]
  },
  {
   "cell_type": "code",
   "execution_count": null,
   "metadata": {},
   "outputs": [],
   "source": [
    "trav = [['Travel / Tourism']]\n",
    "trav_dataframes = []\n",
    "\n",
    "for i in trav:\n",
    "    df = CF_jd_skills_1_ind.Industry.apply(lambda x: any(item for item in i if item in x))\n",
    "    df = CF_jd_skills_1_ind[df]\n",
    "    df.reset_index(inplace=True)\n",
    "    trav_dataframes.append(df)\n",
    "\n",
    "travel_df = pd.concat(trav_dataframes)\n",
    "travel_df.reset_index(inplace=True)\n",
    "\n",
    "sfw_sector_trav = SFW[SFW['Sector'] == \"Tourism\"]\n",
    "sfw_sector_trav.reset_index(inplace=True)\n",
    "\n",
    "print(len(travel_df))\n",
    "print(len(sfw_sector_trav))"
   ]
  },
  {
   "cell_type": "code",
   "execution_count": null,
   "metadata": {},
   "outputs": [],
   "source": [
    "travel_sim = {'cf job titles': [], 'sfw job role': [], 'sim score': []}\n",
    "\n",
    "scores_main = []\n",
    "sfw_jobs_main = []\n",
    "\n",
    "for i in range(0, len(travel_df)):\n",
    "    scores = []\n",
    "    sfw_jobs = []\n",
    "    cf = nlp(str(travel_df.iloc[i]['skills_replaced']))\n",
    "    \n",
    "    for j in range(0, len(sfw_sector_trav)):\n",
    "        sfw = nlp(str(sfw_sector_trav['Skill Title'][j]))\n",
    "        scores.append(sfw.similarity(cf))\n",
    "        sfw_jobs.append(sfw_sector_trav['Job Role'][j])\n",
    "        \n",
    "    scores_main.append(scores)\n",
    "    sfw_jobs_main.append(sfw_jobs)\n",
    "    print(\"done cf job role: \" + str(i))"
   ]
  },
  {
   "cell_type": "code",
   "execution_count": null,
   "metadata": {
    "scrolled": true
   },
   "outputs": [],
   "source": [
    "closest_1_sfw_jobs = []\n",
    "closest_1_score = []\n",
    "\n",
    "closest_2_sfw_jobs = []\n",
    "closest_2_score = []\n",
    "\n",
    "closest_3_sfw_jobs = []\n",
    "closest_3_score = []\n",
    "cf_jobs = []\n",
    "\n",
    "for i in range(len(scores_main)):\n",
    "    ind1, ind2, ind3 = heapq.nlargest(3, range(len(scores_main[i])), key=scores_main[i].__getitem__)\n",
    "    closest_1_sfw_jobs.append(sfw_sector_trav['Job Role'][ind1])\n",
    "    closest_1_score.append(scores_main[i][ind1])\n",
    "    \n",
    "    closest_2_sfw_jobs.append(sfw_sector_trav['Job Role'][ind2])\n",
    "    closest_2_score.append(scores_main[i][ind2])\n",
    "    \n",
    "    closest_3_sfw_jobs.append(sfw_sector_trav['Job Role'][ind3])\n",
    "    closest_3_score.append(scores_main[i][ind3])\n",
    "    cf_jobs.append(travel_df['Job Title'][i])\n",
    "\n",
    "df_tourism = pd.DataFrame({'cf_jobs':cf_jobs, 'closest_1_sfw_jobs':closest_1_sfw_jobs, 'closest_1_score':closest_1_score, 'closest_2_sfw_jobs':closest_2_sfw_jobs, 'closest_2_score':closest_1_score, 'closest_3_sfw_jobs':closest_3_sfw_jobs, 'closest_3_score':closest_1_score})\n",
    "df_tourism.head(50)"
   ]
  },
  {
   "cell_type": "code",
   "execution_count": null,
   "metadata": {},
   "outputs": [],
   "source": [
    "df_tourism.to_csv('tourism.csv')"
   ]
  },
  {
   "cell_type": "markdown",
   "metadata": {},
   "source": [
    "# Media"
   ]
  },
  {
   "cell_type": "code",
   "execution_count": null,
   "metadata": {},
   "outputs": [],
   "source": [
    "adv = [['Advertising / Media'], ['Entertainment']]\n",
    "adv_dataframes = []\n",
    "\n",
    "for i in adv:\n",
    "    df = CF_jd_skills_1_ind.Industry.apply(lambda x: any(item for item in i if item in x))\n",
    "    df = CF_jd_skills_1_ind[df]\n",
    "    df.reset_index(inplace=True)\n",
    "    adv_dataframes.append(df)\n",
    "\n",
    "media_df = pd.concat(adv_dataframes)\n",
    "media_df.reset_index(inplace=True)\n",
    "\n",
    "sfw_sector_media = SFW[SFW['Sector'] == \"Media\"]\n",
    "sfw_sector_media.reset_index(inplace=True)\n",
    "\n",
    "print(len(media_df))\n",
    "print(len(sfw_sector_media))"
   ]
  },
  {
   "cell_type": "code",
   "execution_count": null,
   "metadata": {
    "scrolled": true
   },
   "outputs": [],
   "source": [
    "media_sim = {'cf job titles': [], 'sfw job role': [], 'sim score': []}\n",
    "\n",
    "scores_main = []\n",
    "sfw_jobs_main = []\n",
    "\n",
    "for i in range(0, len(media_df)):\n",
    "    scores = []\n",
    "    sfw_jobs = []\n",
    "    cf = nlp(str(media_df.iloc[i]['skills_replaced']))\n",
    "    \n",
    "    for j in range(0, len(sfw_sector_media)):\n",
    "        sfw = nlp(str(sfw_sector_media['Skill Title'][j]))\n",
    "        scores.append(sfw.similarity(cf))\n",
    "        sfw_jobs.append(sfw_sector_media['Job Role'][j])\n",
    "        \n",
    "    scores_main.append(scores)\n",
    "    sfw_jobs_main.append(sfw_jobs)\n",
    "    print(\"done cf job role: \" + str(i))"
   ]
  },
  {
   "cell_type": "code",
   "execution_count": null,
   "metadata": {
    "scrolled": true
   },
   "outputs": [],
   "source": [
    "media_df"
   ]
  },
  {
   "cell_type": "code",
   "execution_count": null,
   "metadata": {
    "scrolled": true
   },
   "outputs": [],
   "source": [
    "closest_1_sfw_jobs = []\n",
    "closest_1_score = []\n",
    "\n",
    "closest_2_sfw_jobs = []\n",
    "closest_2_score = []\n",
    "\n",
    "closest_3_sfw_jobs = []\n",
    "closest_3_score = []\n",
    "cf_jobs = []\n",
    "\n",
    "for i in range(len(scores_main)):\n",
    "    ind1, ind2, ind3 = heapq.nlargest(3, range(len(scores_main[i])), key=scores_main[i].__getitem__)\n",
    "    closest_1_sfw_jobs.append(sfw_sector_media['Job Role'][ind1])\n",
    "    closest_1_score.append(scores_main[i][ind1])\n",
    "    \n",
    "    closest_2_sfw_jobs.append(sfw_sector_media['Job Role'][ind2])\n",
    "    closest_2_score.append(scores_main[i][ind2])\n",
    "    \n",
    "    closest_3_sfw_jobs.append(sfw_sector_media['Job Role'][ind3])\n",
    "    closest_3_score.append(scores_main[i][ind3])\n",
    "    cf_jobs.append(media_df['Job Title'][i])\n",
    "\n",
    "df_media = pd.DataFrame({'cf_jobs':cf_jobs, 'closest_1_sfw_jobs':closest_1_sfw_jobs, 'closest_1_score':closest_1_score, 'closest_2_sfw_jobs':closest_2_sfw_jobs, 'closest_2_score':closest_1_score, 'closest_3_sfw_jobs':closest_3_sfw_jobs, 'closest_3_score':closest_1_score})\n",
    "df_media.head(50)"
   ]
  },
  {
   "cell_type": "code",
   "execution_count": null,
   "metadata": {},
   "outputs": [],
   "source": [
    "df_media.to_csv('media.csv')"
   ]
  },
  {
   "cell_type": "markdown",
   "metadata": {},
   "source": [
    "# Healthcare"
   ]
  },
  {
   "cell_type": "code",
   "execution_count": null,
   "metadata": {},
   "outputs": [],
   "source": [
    "health = [['Healthcare / Pharmaceutical'], ['Personal Care / Beauty'], ['Medical / Therapy Services']]\n",
    "health_dataframes = []\n",
    "\n",
    "for i in health:\n",
    "    df = CF_jd_skills_1_ind.Industry.apply(lambda x: any(item for item in i if item in x))\n",
    "    df = CF_jd_skills_1_ind[df]\n",
    "    df.reset_index(inplace=True)\n",
    "    health_dataframes.append(df)\n",
    "\n",
    "health_df = pd.concat(health_dataframes)\n",
    "health_df.reset_index(inplace=True)\n",
    "\n",
    "sfw_sector_health = SFW[SFW['Sector'] == \"Healthcare\"]\n",
    "sfw_sector_health.reset_index(inplace=True)\n",
    "\n",
    "print(len(health_df))\n",
    "print(len(sfw_sector_health))"
   ]
  },
  {
   "cell_type": "code",
   "execution_count": null,
   "metadata": {
    "scrolled": true
   },
   "outputs": [],
   "source": [
    "health_sim = {'cf job titles': [], 'sfw job role': [], 'sim score': []}\n",
    "\n",
    "scores_main = []\n",
    "sfw_jobs_main = []\n",
    "\n",
    "for i in range(0, len(health_df)):\n",
    "    scores = []\n",
    "    sfw_jobs = []\n",
    "    cf = nlp(str(health_df.iloc[i]['skills_replaced']))\n",
    "    \n",
    "    for j in range(0, len(sfw_sector_health)):\n",
    "        sfw = nlp(sfw_sector_health['Skill Title'][j])\n",
    "        scores.append(sfw.similarity(cf))\n",
    "        sfw_jobs.append(sfw_sector_health['Job_Role_Replaced'][j])\n",
    "        \n",
    "    scores_main.append(scores)\n",
    "    sfw_jobs_main.append(sfw_jobs)\n",
    "    print(\"done cf job role: \" + str(i))"
   ]
  },
  {
   "cell_type": "code",
   "execution_count": null,
   "metadata": {},
   "outputs": [],
   "source": [
    "closest_1_sfw_jobs = []\n",
    "closest_1_score = []\n",
    "\n",
    "closest_2_sfw_jobs = []\n",
    "closest_2_score = []\n",
    "\n",
    "closest_3_sfw_jobs = []\n",
    "closest_3_score = []\n",
    "cf_jobs = []\n",
    "\n",
    "for i in range(len(scores_main)):\n",
    "    ind1, ind2, ind3 = heapq.nlargest(3, range(len(scores_main[i])), key=scores_main[i].__getitem__)\n",
    "    closest_1_sfw_jobs.append(sfw_sector_health['Job_Role_Replaced'][ind1])\n",
    "    closest_1_score.append(scores_main[i][ind1])\n",
    "    \n",
    "    closest_2_sfw_jobs.append(sfw_sector_health['Job_Role_Replaced'][ind2])\n",
    "    closest_2_score.append(scores_main[i][ind2])\n",
    "    \n",
    "    closest_3_sfw_jobs.append(sfw_sector_health['Job_Role_Replaced'][ind3])\n",
    "    closest_3_score.append(scores_main[i][ind3])\n",
    "    cf_jobs.append(health_df['Job Title'][i])\n",
    "\n",
    "df_health = pd.DataFrame({'cf_jobs':cf_jobs, 'closest_1_sfw_jobs':closest_1_sfw_jobs, 'closest_1_score':closest_1_score, 'closest_2_sfw_jobs':closest_2_sfw_jobs, 'closest_2_score':closest_1_score, 'closest_3_sfw_jobs':closest_3_sfw_jobs, 'closest_3_score':closest_1_score})\n",
    "df_health.head(50)"
   ]
  },
  {
   "cell_type": "code",
   "execution_count": null,
   "metadata": {},
   "outputs": [],
   "source": [
    "df_health.to_csv('health.csv')"
   ]
  },
  {
   "cell_type": "markdown",
   "metadata": {},
   "source": [
    "# Retail"
   ]
  },
  {
   "cell_type": "code",
   "execution_count": null,
   "metadata": {},
   "outputs": [],
   "source": [
    "retail = [['Sales / Retail']]\n",
    "retail_dataframes = []\n",
    "\n",
    "for i in retail:\n",
    "    df = CF_jd_skills_1_ind.Industry.apply(lambda x: any(item for item in i if item in x))\n",
    "    df = CF_jd_skills_1_ind[df]\n",
    "    df.reset_index(inplace=True)\n",
    "    retail_dataframes.append(df)\n",
    "\n",
    "retail_df = pd.concat(retail_dataframes)\n",
    "retail_df.reset_index(inplace=True)\n",
    "\n",
    "sfw_sector_retail = SFW[SFW['Sector'] == \"Retail\"]\n",
    "sfw_sector_retail.reset_index(inplace=True)\n",
    "\n",
    "print(len(retail_df))\n",
    "print(len(sfw_sector_retail))"
   ]
  },
  {
   "cell_type": "code",
   "execution_count": null,
   "metadata": {
    "scrolled": true
   },
   "outputs": [],
   "source": [
    "retail_sim = {'cf job titles': [], 'sfw job role': [], 'sim score': []}\n",
    "\n",
    "scores_main = []\n",
    "sfw_jobs_main = []\n",
    "\n",
    "for i in range(0, len(retail_df)):\n",
    "    scores = []\n",
    "    sfw_jobs = []\n",
    "    cf = nlp(str(retail_df.iloc[i]['skills_replaced']))\n",
    "    \n",
    "    for j in range(0, len(sfw_sector_retail)):\n",
    "        sfw = nlp(str(sfw_sector_retail['Skill Title'][j]))\n",
    "        scores.append(sfw.similarity(cf))\n",
    "        sfw_jobs.append(sfw_sector_retail['Job Role'][j])\n",
    "        \n",
    "    scores_main.append(scores)\n",
    "    sfw_jobs_main.append(sfw_jobs)\n",
    "    print(\"done cf job role: \" + str(i))"
   ]
  },
  {
   "cell_type": "code",
   "execution_count": null,
   "metadata": {},
   "outputs": [],
   "source": [
    "closest_1_sfw_jobs = []\n",
    "closest_1_score = []\n",
    "\n",
    "closest_2_sfw_jobs = []\n",
    "closest_2_score = []\n",
    "\n",
    "closest_3_sfw_jobs = []\n",
    "closest_3_score = []\n",
    "cf_jobs = []\n",
    "\n",
    "for i in range(len(scores_main)):\n",
    "    ind1, ind2, ind3 = heapq.nlargest(3, range(len(scores_main[i])), key=scores_main[i].__getitem__)\n",
    "    closest_1_sfw_jobs.append(sfw_sector_retail['Job Role'][ind1])\n",
    "    closest_1_score.append(scores_main[i][ind1])\n",
    "    \n",
    "    closest_2_sfw_jobs.append(sfw_sector_retail['Job Role'][ind2])\n",
    "    closest_2_score.append(scores_main[i][ind2])\n",
    "    \n",
    "    closest_3_sfw_jobs.append(sfw_sector_retail['Job Role'][ind3])\n",
    "    closest_3_score.append(scores_main[i][ind3])\n",
    "    cf_jobs.append(retail_df['Job Title'][i])\n",
    "\n",
    "df_retail = pd.DataFrame({'cf_jobs':cf_jobs, 'closest_1_sfw_jobs':closest_1_sfw_jobs, 'closest_1_score':closest_1_score, 'closest_2_sfw_jobs':closest_2_sfw_jobs, 'closest_2_score':closest_1_score, 'closest_3_sfw_jobs':closest_3_sfw_jobs, 'closest_3_score':closest_1_score})\n",
    "df_retail.head(50)"
   ]
  },
  {
   "cell_type": "code",
   "execution_count": null,
   "metadata": {},
   "outputs": [],
   "source": [
    "df_retail.to_csv('retail.csv')"
   ]
  },
  {
   "cell_type": "markdown",
   "metadata": {},
   "source": [
    "# Logistics"
   ]
  },
  {
   "cell_type": "code",
   "execution_count": null,
   "metadata": {},
   "outputs": [],
   "source": [
    "log = [['Logistics / Supply Chain']]\n",
    "log_dataframes = []\n",
    "\n",
    "for i in log:\n",
    "    df = CF_jd_skills_1_ind.Industry.apply(lambda x: any(item for item in i if item in x))\n",
    "    df = CF_jd_skills_1_ind[df]\n",
    "    df.reset_index(inplace=True)\n",
    "    log_dataframes.append(df)\n",
    "\n",
    "logistics_df = pd.concat(log_dataframes)\n",
    "logistics_df.reset_index(inplace=True)\n",
    "\n",
    "sfw_sector_log = SFW[SFW['Sector'] == \"Logistics\"]\n",
    "sfw_sector_log.reset_index(inplace=True)\n",
    "\n",
    "print(len(logistics_df))\n",
    "print(len(sfw_sector_log))"
   ]
  },
  {
   "cell_type": "code",
   "execution_count": null,
   "metadata": {},
   "outputs": [],
   "source": [
    "logs_sim = {'cf job titles': [], 'sfw job role': [], 'sim score': []}\n",
    "\n",
    "scores_main = []\n",
    "sfw_jobs_main = []\n",
    "\n",
    "for i in range(0, len(logistics_df)):\n",
    "    scores = []\n",
    "    sfw_jobs = []\n",
    "    cf = nlp(str(logistics_df.iloc[i]['skills_replaced']))\n",
    "    \n",
    "    for j in range(0, len(sfw_sector_log)):\n",
    "        sfw = nlp(sfw_sector_log['Skill Title'][j])\n",
    "        scores.append(sfw.similarity(cf))\n",
    "        sfw_jobs.append(sfw_sector_log['Job_Role_Replaced'][j])\n",
    "        \n",
    "    scores_main.append(scores)\n",
    "    sfw_jobs_main.append(sfw_jobs)\n",
    "    print(\"done cf job role: \" + str(i))"
   ]
  },
  {
   "cell_type": "code",
   "execution_count": null,
   "metadata": {},
   "outputs": [],
   "source": [
    "closest_1_sfw_jobs = []\n",
    "closest_1_score = []\n",
    "\n",
    "closest_2_sfw_jobs = []\n",
    "closest_2_score = []\n",
    "\n",
    "closest_3_sfw_jobs = []\n",
    "closest_3_score = []\n",
    "cf_jobs = []\n",
    "\n",
    "for i in range(len(scores_main)):\n",
    "    ind1, ind2, ind3 = heapq.nlargest(3, range(len(scores_main[i])), key=scores_main[i].__getitem__)\n",
    "    closest_1_sfw_jobs.append(sfw_sector_acc['Job_Role_Replaced'][ind1])\n",
    "    closest_1_score.append(scores_main[ind1])\n",
    "    \n",
    "    closest_2_sfw_jobs.append(sfw_sector_acc['Job_Role_Replaced'][ind2])\n",
    "    closest_2_score.append(scores_main[ind2])\n",
    "    \n",
    "    closest_3_sfw_jobs.append(sfw_sector_acc['Job_Role_Replaced'][ind3])\n",
    "    closest_3_score.append(scores_main[ind3])\n",
    "    cf_jobs.append(acc_df['Job Title'][i])\n",
    "\n",
    "df_acc = pd.DataFrame({'cf_jobs':cf_jobs, 'closest_1_sfw_jobs':closest_1_sfw_jobs, 'closest_1_score':closest_1_score, 'closest_2_sfw_jobs':closest_2_sfw_jobs, 'closest_2_score':closest_1_score, 'closest_3_sfw_jobs':closest_3_sfw_jobs, 'closest_3_score':closest_1_score})\n",
    "df_acc.head(50)"
   ]
  }
 ],
 "metadata": {
  "kernelspec": {
   "display_name": "Python 3",
   "language": "python",
   "name": "python3"
  },
  "language_info": {
   "codemirror_mode": {
    "name": "ipython",
    "version": 3
   },
   "file_extension": ".py",
   "mimetype": "text/x-python",
   "name": "python",
   "nbconvert_exporter": "python",
   "pygments_lexer": "ipython3",
   "version": "3.8.5"
  }
 },
 "nbformat": 4,
 "nbformat_minor": 2
}
