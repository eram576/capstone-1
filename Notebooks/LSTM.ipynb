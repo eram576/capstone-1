{
 "cells": [
  {
   "cell_type": "code",
   "execution_count": null,
   "metadata": {},
   "outputs": [],
   "source": [
    "#importing\n",
    "import matplotlib.pyplot as plt\n",
    "import pandas as pd\n",
    "import numpy as np\n",
    "import smart_open\n",
    "\n",
    "import logging\n",
    "from numpy import random\n",
    "import gensim\n",
    "import nltk\n",
    "from sklearn.model_selection import train_test_split\n",
    "from sklearn.feature_extraction.text import CountVectorizer, TfidfVectorizer\n",
    "from sklearn.metrics import accuracy_score, confusion_matrix\n",
    "import matplotlib.pyplot as plt\n",
    "from nltk.corpus import stopwords\n",
    "import re\n",
    "from bs4 import BeautifulSoup\n",
    "from sklearn.linear_model import SGDClassifier\n",
    "from sklearn.pipeline import Pipeline\n",
    "from sklearn.feature_extraction.text import TfidfTransformer\n",
    "from sklearn.linear_model import SGDClassifier\n",
    "from sklearn.naive_bayes import GaussianNB\n",
    "from sklearn.tree import DecisionTreeClassifier\n",
    "from sklearn.ensemble import RandomForestClassifier, AdaBoostClassifier\n",
    "from sklearn.neighbors import KNeighborsClassifier\n",
    "from sklearn.multiclass import OneVsRestClassifier\n",
    "from sklearn.linear_model import LogisticRegression\n",
    "from sklearn.metrics import accuracy_score, precision_score, recall_score, f1_score, roc_curve, auc, confusion_matrix\n",
    "from sklearn.model_selection import StratifiedKFold, cross_val_score\n",
    "\n",
    "from sklearn.model_selection import GridSearchCV\n",
    "from sklearn.svm import SVC  \n",
    "from sklearn.metrics import classification_report, confusion_matrix  \n",
    "\n",
    "import multiprocessing\n",
    "import docx2txt\n",
    "\n",
    "from gensim.models import Word2Vec\n",
    "from sklearn.manifold import TSNE\n",
    "\n",
    "import texthero as hero"
   ]
  },
  {
   "cell_type": "code",
   "execution_count": null,
   "metadata": {},
   "outputs": [],
   "source": [
    "import gensim\n",
    "# upgrade gensim if you can't import softcossim\n",
    "from gensim.matutils import softcossim \n",
    "from gensim import corpora\n",
    "import gensim.downloader as api\n",
    "from gensim.utils import simple_preprocess\n",
    "print(gensim.__version__)\n",
    "#> '3.6.0'\n",
    "\n",
    "# Download the FastText model\n",
    "# fasttext_model300 = api.load('fasttext-wiki-news-subwords-300')"
   ]
  },
  {
   "cell_type": "code",
   "execution_count": null,
   "metadata": {},
   "outputs": [],
   "source": [
    "sf_new = pd.read_csv(\"sfw_new.csv\")"
   ]
  },
  {
   "cell_type": "code",
   "execution_count": null,
   "metadata": {},
   "outputs": [],
   "source": [
    "sf_new"
   ]
  },
  {
   "cell_type": "code",
   "execution_count": null,
   "metadata": {},
   "outputs": [],
   "source": [
    "sf_sectors = pd.read_csv(\"sfw_sector.csv\")"
   ]
  },
  {
   "cell_type": "code",
   "execution_count": null,
   "metadata": {},
   "outputs": [],
   "source": [
    "sf_sectors"
   ]
  },
  {
   "cell_type": "code",
   "execution_count": null,
   "metadata": {},
   "outputs": [],
   "source": [
    "sf_sectors['Sector'].value_counts()"
   ]
  },
  {
   "cell_type": "code",
   "execution_count": null,
   "metadata": {},
   "outputs": [],
   "source": [
    "X_train_sf, X_test_sf, y_train_sf, y_test_sf = train_test_split(sf_sectors['Skill Title'], \n",
    "                                                    sf_sectors['Sector'], \n",
    "                                                    test_size = 0.03, \n",
    "                                                    shuffle = True, \n",
    "                                                    stratify = sf_sectors['Sector'], \n",
    "                                                    random_state = 3)"
   ]
  },
  {
   "cell_type": "code",
   "execution_count": null,
   "metadata": {},
   "outputs": [],
   "source": [
    "transformer = Pipeline([('vect', CountVectorizer(max_features = 5000, stop_words = 'english', min_df = 3, max_df = 0.5)),\n",
    "                ('tfidf', TfidfTransformer()),\n",
    "                                \n",
    "                ])\n",
    "transformer.fit_transform(sf_sectors['Skill Title'])\n",
    "# X_test_dtm = transformer.transform(cf_model_IT['Job Description'])"
   ]
  },
  {
   "cell_type": "code",
   "execution_count": null,
   "metadata": {},
   "outputs": [],
   "source": [
    "import pickle\n",
    "\n",
    "pickle.dump(transformer, open(\"tfidf.pickle\", \"wb\"))"
   ]
  },
  {
   "cell_type": "code",
   "execution_count": null,
   "metadata": {},
   "outputs": [],
   "source": [
    "k_fold = StratifiedKFold(n_splits = 10, shuffle = True, random_state = 50)"
   ]
  },
  {
   "cell_type": "code",
   "execution_count": null,
   "metadata": {},
   "outputs": [],
   "source": [
    "param_grid = {'C': [0.1,1, 10], 'gamma': [1,0.1,0.01, 0.001],'kernel': ['linear', 'rbf', 'poly', 'sigmoid']}"
   ]
  },
  {
   "cell_type": "code",
   "execution_count": null,
   "metadata": {},
   "outputs": [],
   "source": [
    "model = GridSearchCV(SVC(class_weight='balanced', probability = True),param_grid,refit=True,verbose=2, n_jobs = -1, cv = 3)\n",
    "\n",
    "for train_indices, test_indices in k_fold.split(sf_sectors['Skill Title'], sf_sectors['Sector']):\n",
    "    X_train, X_test = X_train_dtm[train_indices], X_train_dtm[test_indices]\n",
    "    y_train, y_test = sf_sectors['Sector'][train_indices], sf_sectors['Sector'][test_indices]\n",
    "    model.fit(X_train, y_train)\n",
    "    print(\"Best parameters set found on development set:\")\n",
    "    print()\n",
    "    print(model.best_params_)\n",
    "    print()\n",
    "\n",
    "    y_true, y_pred = y_test, model.predict(X_test)\n",
    "    print(classification_report(y_true, y_pred))\n",
    "    print()\n",
    "\n",
    "\n",
    "\n",
    "# y_pred = logreg.predict(X_test_sf)"
   ]
  },
  {
   "cell_type": "code",
   "execution_count": null,
   "metadata": {},
   "outputs": [],
   "source": [
    "pickle.dump(model, open('industry.sav', 'wb'))\n",
    "\n"
   ]
  },
  {
   "cell_type": "code",
   "execution_count": null,
   "metadata": {},
   "outputs": [],
   "source": [
    "cf_model_IT.iloc[125]"
   ]
  },
  {
   "cell_type": "code",
   "execution_count": null,
   "metadata": {},
   "outputs": [],
   "source": [
    "len(cf_model_IT)"
   ]
  },
  {
   "cell_type": "code",
   "execution_count": null,
   "metadata": {},
   "outputs": [],
   "source": [
    "model.best_params_"
   ]
  },
  {
   "cell_type": "code",
   "execution_count": null,
   "metadata": {},
   "outputs": [],
   "source": [
    "pd.Series(model.predict(X_test_dtm)).value_counts()"
   ]
  },
  {
   "cell_type": "code",
   "execution_count": null,
   "metadata": {},
   "outputs": [],
   "source": [
    "from sklearn import preprocessing\n",
    "\n",
    "def get_labels(data, column):\n",
    "    \n",
    "    le = preprocessing.LabelEncoder()\n",
    "    for i in range(len(data)):\n",
    "        data['Sector Label'] = le.fit_transform(data[column])\n",
    "        values = sf_sectors[['Sector Label', column]].drop_duplicates().sort_values('Sector Label').reset_index().drop(columns = 'index')\n",
    "        return values\n",
    "\n"
   ]
  },
  {
   "cell_type": "code",
   "execution_count": null,
   "metadata": {},
   "outputs": [],
   "source": [
    "vectorizer = pickle.load(open(\"tfidf.pickle\", \"rb\"))\n",
    "model = pickle.load(open('industry.sav', 'rb'))\n",
    "nlp = spacy.load(\"en_core_web_lg\")\n",
    "\n",
    "def retrieve_job_title(jd, vectorizer, model, data, nlp):\n",
    "    # replace skills here\n",
    "    transformed_jd = vectorizer.transform(jd)\n",
    "    probs = model.predict_proba(transformed_jd)\n",
    "    best_n = np.argsort(probs, axis=1)[:,-3:]\n",
    "    labels = get_labels(data, 'Sector')\n",
    "    industries = labels.iloc[best_n[0]]['Sector'].to_list()\n",
    "    print(industries)\n",
    "    all_jobs = data[(data['Sector']== industries[0]) | (data['Sector']== industries[1]) | (data['Sector']== industries[2])]\n",
    "    \n",
    "    cf = nlp(str(jd))\n",
    "    print(\"User Input:\")\n",
    "    print(cf)\n",
    "\n",
    "    scores = []\n",
    "    sfw_jobs = []\n",
    "    for j in range(0, len(all_jobs)):\n",
    "        sfw = nlp(str(all_jobs.iloc[j]['Skill Title']))\n",
    "        scores.append(sfw.similarity(cf))\n",
    "        sfw_jobs.append(all_jobs.iloc[j]['Job_Role_Replaced'])\n",
    "        \n",
    "    ind1, ind2, ind3, ind4, ind5 = heapq.nlargest(5, zip(scores, sfw_sector_IT['Job_Role_Replaced']))\n",
    "    print(ind1)\n",
    "    print(ind2)\n",
    "    print(ind3)\n",
    "\n",
    "    \n",
    "    "
   ]
  },
  {
   "cell_type": "code",
   "execution_count": null,
   "metadata": {},
   "outputs": [],
   "source": [
    "retrieve_job_title(pd.Series(cf_model_IT.iloc[125]['Skills_unlisted']), vectorizer, model, sf_sectors, nlp)"
   ]
  },
  {
   "cell_type": "code",
   "execution_count": null,
   "metadata": {},
   "outputs": [],
   "source": [
    "retrieve_job_title(pd.Series(cf_model_IT.iloc[125]['Job Description']), vectorizer, model, sf_sectors, nlp)"
   ]
  },
  {
   "cell_type": "code",
   "execution_count": null,
   "metadata": {},
   "outputs": [],
   "source": [
    "retrieve_job_title(pd.Series(cf_model.iloc[10]['Skills_unlisted']), vectorizer, model, sf_sectors, nlp)"
   ]
  },
  {
   "cell_type": "code",
   "execution_count": null,
   "metadata": {},
   "outputs": [],
   "source": [
    "model"
   ]
  },
  {
   "cell_type": "code",
   "execution_count": null,
   "metadata": {},
   "outputs": [],
   "source": [
    "model = SVC(C = 1, gamma = 1, kernel = 'linear', class_weight='balanced', probability=True)"
   ]
  },
  {
   "cell_type": "code",
   "execution_count": null,
   "metadata": {},
   "outputs": [],
   "source": [
    "model.fit(X_train_dtm, sf_sectors['Sector'])"
   ]
  },
  {
   "cell_type": "code",
   "execution_count": null,
   "metadata": {},
   "outputs": [],
   "source": [
    "probs = model.predict_proba(transformer.transform(pd.Series(cf_model.iloc[10]['Job Description'])))"
   ]
  },
  {
   "cell_type": "code",
   "execution_count": null,
   "metadata": {},
   "outputs": [],
   "source": [
    "best_n = np.argsort(probs, axis=1)[:,-3:]"
   ]
  },
  {
   "cell_type": "code",
   "execution_count": null,
   "metadata": {},
   "outputs": [],
   "source": [
    "best_n"
   ]
  },
  {
   "cell_type": "code",
   "execution_count": null,
   "metadata": {},
   "outputs": [],
   "source": [
    "# jd = transformer.transform(pd.Series(cf_model.iloc[10]['Skills_unlisted']))\n",
    "\n",
    "data = sf_sectors\n",
    "labels = get_labels(sf_sectors,'Sector')\n",
    "industries = labels.iloc[best_n[0]]['Sector'].to_list()\n",
    "print(industries)\n",
    "all_jobs = data[(data['Sector']== industries[0]) | (data['Sector']== industries[1]) | (data['Sector']== industries[2])]\n",
    "\n",
    "cf = nlp(str(jd))\n",
    "\n",
    "\n",
    "scores = []\n",
    "sfw_jobs = []\n",
    "for j in range(0, len(all_jobs)):\n",
    "    sfw = nlp(str(all_jobs.iloc[j]['Skill Title']))\n",
    "    scores.append(sfw.similarity(cf))\n",
    "    sfw_jobs.append(all_jobs.iloc[j]['Job_Role_Replaced'])\n",
    "\n",
    "ind1, ind2, ind3, ind4, ind5 = heapq.nlargest(5, zip(scores, all_jobs['Job_Role_Replaced']))\n",
    "print(ind1)\n",
    "print(ind2)\n",
    "print(ind3)"
   ]
  },
  {
   "cell_type": "code",
   "execution_count": null,
   "metadata": {},
   "outputs": [],
   "source": [
    "values"
   ]
  },
  {
   "cell_type": "code",
   "execution_count": null,
   "metadata": {},
   "outputs": [],
   "source": [
    "cf_model_IT.iloc[125]['Job Description']"
   ]
  },
  {
   "cell_type": "code",
   "execution_count": null,
   "metadata": {},
   "outputs": [],
   "source": [
    "model.predict(X_test_dtm[2])"
   ]
  },
  {
   "cell_type": "code",
   "execution_count": null,
   "metadata": {},
   "outputs": [],
   "source": [
    "probs = model.predict_proba(X_test_dtm[2])\n",
    "best_n = np.argsort(probs, axis=1)[:,-2:]\n",
    "best_n"
   ]
  },
  {
   "cell_type": "code",
   "execution_count": null,
   "metadata": {},
   "outputs": [],
   "source": [
    "best_n[0]\n"
   ]
  },
  {
   "cell_type": "code",
   "execution_count": null,
   "metadata": {},
   "outputs": [],
   "source": [
    "values.iloc[best_n[0]]['Sector'].to_list()"
   ]
  },
  {
   "cell_type": "code",
   "execution_count": null,
   "metadata": {},
   "outputs": [],
   "source": [
    "probs = model.predict_proba(X_test_dtm[125])\n",
    "best_n = np.argsort(probs, axis=1)[:,-2:]\n",
    "best_n"
   ]
  },
  {
   "cell_type": "code",
   "execution_count": null,
   "metadata": {},
   "outputs": [],
   "source": [
    "!pip install en_core_web_lg"
   ]
  },
  {
   "cell_type": "code",
   "execution_count": null,
   "metadata": {},
   "outputs": [],
   "source": [
    "import nltk\n",
    "\n",
    "import re\n",
    "import string\n",
    "\n",
    "import heapq\n",
    "import spacy\n",
    "\n",
    "#nlp = spacy.load(\"en_core_web_lg\")"
   ]
  },
  {
   "cell_type": "code",
   "execution_count": null,
   "metadata": {},
   "outputs": [],
   "source": [
    "sfw_sector_IT = sf_sectors[(sf_sectors['Sector']=='Infocomm Technology') | (sf_sectors['Sector']=='Media')]\n",
    "sfw_sector_IT"
   ]
  },
  {
   "cell_type": "code",
   "execution_count": null,
   "metadata": {},
   "outputs": [],
   "source": [
    "cf = nlp(str(cf_model_IT.iloc[135]['Skills_unlisted']))\n",
    "print(cf)\n",
    "# try with replaced job description\n",
    "# rerun the whoel thing with job description\n",
    "scores = []\n",
    "sfw_jobs = []\n",
    "for j in range(0, len(sfw_sector_IT)):\n",
    "    sfw = nlp(str(sfw_sector_IT.iloc[j]['Skill Title']))\n",
    "    scores.append(sfw.similarity(cf))\n",
    "    sfw_jobs.append(sfw_sector_IT.iloc[j]['Job_Role_Replaced'])"
   ]
  },
  {
   "cell_type": "code",
   "execution_count": null,
   "metadata": {},
   "outputs": [],
   "source": [
    "ind1, ind2, ind3, ind4, ind5 = heapq.nlargest(5, zip(scores, sfw_sector_IT['Job_Role_Replaced']))\n",
    "\n",
    "#     print(sfw_sector_IT.iloc[ind1]['Job_Role_Replaced'])\n",
    "#     closest_2_sfw_jobs.append(sfw_sector_IT['Job_Role_Replaced'][ind2])\n",
    "#     closest_3_sfw_jobs.append(sfw_sector_IT['Job_Role_Replaced'][ind3])\n",
    "# cf_jobs.append(IT['Job Title'][i])"
   ]
  },
  {
   "cell_type": "code",
   "execution_count": null,
   "metadata": {},
   "outputs": [],
   "source": [
    "ind1"
   ]
  },
  {
   "cell_type": "code",
   "execution_count": null,
   "metadata": {},
   "outputs": [],
   "source": [
    "df_IT_72 = pd.DataFrame({'cf_jobs':cf_jobs, 'closest_1_sfw_jobs':closest_1_sfw_jobs, 'closest_2_sfw_jobs':closest_2_sfw_jobs, 'closest_3_sfw_jobs':closest_3_sfw_jobs})"
   ]
  },
  {
   "cell_type": "code",
   "execution_count": null,
   "metadata": {},
   "outputs": [],
   "source": [
    "logreg.predict(pd.Series(cf_model_IT.iloc[2]['Job Description']))"
   ]
  },
  {
   "cell_type": "code",
   "execution_count": null,
   "metadata": {},
   "outputs": [],
   "source": [
    "sf_sectors['Sector'].unique()"
   ]
  },
  {
   "cell_type": "code",
   "execution_count": null,
   "metadata": {},
   "outputs": [],
   "source": [
    "cf_model_fin = cf_model[cf_model.Industry_unlisted == \"Banking and Finance\"]"
   ]
  },
  {
   "cell_type": "code",
   "execution_count": null,
   "metadata": {},
   "outputs": [],
   "source": [
    "cf_model_fin"
   ]
  },
  {
   "cell_type": "code",
   "execution_count": null,
   "metadata": {},
   "outputs": [],
   "source": [
    "pd.Series(model.predict(transformer.transform(cf_model_fin['Job Description']))).value_counts()"
   ]
  },
  {
   "cell_type": "code",
   "execution_count": null,
   "metadata": {},
   "outputs": [],
   "source": [
    "from sklearn.model_selection import RandomizedSearchCV\n",
    "# Number of trees in random forest\n",
    "n_estimators = [int(x) for x in np.linspace(start = 200, stop = 2000, num = 10)]\n",
    "# Number of features to consider at every split\n",
    "max_features = ['auto', 'sqrt']\n",
    "# Maximum number of levels in tree\n",
    "max_depth = [int(x) for x in np.linspace(10, 110, num = 11)]\n",
    "max_depth.append(None)\n",
    "# Minimum number of samples required to split a node\n",
    "min_samples_split = [2, 5, 10]\n",
    "# Minimum number of samples required at each leaf node\n",
    "min_samples_leaf = [1, 2, 4]\n",
    "# Method of selecting samples for training each tree\n",
    "bootstrap = [True, False]\n",
    "# Create the random grid\n",
    "random_grid = {'n_estimators': n_estimators,\n",
    "               'max_features': max_features,\n",
    "               'max_depth': max_depth,\n",
    "               'min_samples_split': min_samples_split,\n",
    "               'min_samples_leaf': min_samples_leaf,\n",
    "               'bootstrap': bootstrap}"
   ]
  },
  {
   "cell_type": "code",
   "execution_count": null,
   "metadata": {},
   "outputs": [],
   "source": [
    "from sklearn.ensemble import RandomForestClassifier\n",
    "# Create the parameter grid based on the results of random search \n",
    "param_grid = {\n",
    "    'bootstrap': [True],\n",
    "    'max_depth': [80, 90, 100],\n",
    "    'min_samples_leaf': [3, 4],\n",
    "    'min_samples_split': [8, 10, 12],\n",
    "    'n_estimators': [200, 300],\n",
    "    'class_weight': ['balanced', 'balanced_subsample']\n",
    "}\n",
    "# Create a based model\n",
    "rf = RandomForestClassifier()\n",
    "# Instantiate the grid search model\n",
    "grid_search = GridSearchCV(estimator = rf, param_grid = param_grid, \n",
    "                          cv = 3, n_jobs = -1, verbose = 2)"
   ]
  },
  {
   "cell_type": "code",
   "execution_count": null,
   "metadata": {},
   "outputs": [],
   "source": [
    "from sklearn import preprocessing\n",
    "le = preprocessing.LabelEncoder()\n",
    "for i in range(len(sf_sectors['Sector'])):\n",
    "    sf_sectors['Sector Label'] = le.fit_transform(sf_sectors['Sector'])"
   ]
  },
  {
   "cell_type": "code",
   "execution_count": null,
   "metadata": {},
   "outputs": [],
   "source": [
    "sf_sectors"
   ]
  },
  {
   "cell_type": "code",
   "execution_count": null,
   "metadata": {},
   "outputs": [],
   "source": [
    "sf_sectors[['Sector', 'Sector Label']].drop_duplicates().sort_values('Sector Label')"
   ]
  },
  {
   "cell_type": "code",
   "execution_count": null,
   "metadata": {},
   "outputs": [],
   "source": [
    "for train_indices, test_indices in k_fold.split(sf_sectors['Skill Title'], sf_sectors['Sector']):\n",
    "    X_train, X_test = X_train_dtm[train_indices], X_train_dtm[test_indices]\n",
    "    y_train, y_test = sf_sectors['Sector'][train_indices], sf_sectors['Sector'][test_indices]\n",
    "    grid_search.fit(X_train, y_train)\n",
    "    print(\"Best parameters set found on development set:\")\n",
    "    print()\n",
    "    print(grid_search.best_params_)\n",
    "    print()\n",
    "\n",
    "#     y_true, y_pred = y_test, grid_search.predict(X_test)\n",
    "#     print(classification_report(y_true, y_pred))\n",
    "#     print()"
   ]
  },
  {
   "cell_type": "code",
   "execution_count": null,
   "metadata": {},
   "outputs": [],
   "source": [
    "grid_search.best_estimator_"
   ]
  },
  {
   "cell_type": "code",
   "execution_count": null,
   "metadata": {},
   "outputs": [],
   "source": [
    "grid_search.fit(X_train_dtm, sf_sectors['Sector'])"
   ]
  },
  {
   "cell_type": "code",
   "execution_count": null,
   "metadata": {},
   "outputs": [],
   "source": [
    "grid_predictions = grid_search.predict(X_test_dtm)"
   ]
  },
  {
   "cell_type": "code",
   "execution_count": null,
   "metadata": {},
   "outputs": [],
   "source": [
    "pd.Series(grid_predictions).value_counts()"
   ]
  },
  {
   "cell_type": "code",
   "execution_count": null,
   "metadata": {},
   "outputs": [],
   "source": [
    "probs = grid_search.predict_proba(X_test_dtm[2])\n",
    "best_n = np.argsort(probs, axis=1)[:,-3:]\n",
    "best_n"
   ]
  },
  {
   "cell_type": "code",
   "execution_count": null,
   "metadata": {},
   "outputs": [],
   "source": [
    "cf_model_IT.iloc[2]"
   ]
  },
  {
   "cell_type": "code",
   "execution_count": null,
   "metadata": {},
   "outputs": [],
   "source": [
    "pd.Series(model.predict(transformer.transform(cf_model_fin['Job Description']))).value_counts()"
   ]
  },
  {
   "cell_type": "code",
   "execution_count": null,
   "metadata": {},
   "outputs": [],
   "source": [
    "len(cf_model_fin)"
   ]
  },
  {
   "cell_type": "code",
   "execution_count": null,
   "metadata": {},
   "outputs": [],
   "source": [
    "cf_model_fin.iloc[2]['Job Description']"
   ]
  },
  {
   "cell_type": "code",
   "execution_count": null,
   "metadata": {},
   "outputs": [],
   "source": [
    "probs = model.predict_proba(transformer.transform(pd.Series(cf_model_fin.iloc[2]['Job Description'])))\n",
    "best_n = np.argsort(probs, axis=1)[:,-3:]\n",
    "best_n"
   ]
  },
  {
   "cell_type": "code",
   "execution_count": null,
   "metadata": {},
   "outputs": [],
   "source": [
    "pd.Series(logreg.predict(cf_model_IT['Job Description'])).value_counts()"
   ]
  },
  {
   "cell_type": "code",
   "execution_count": null,
   "metadata": {},
   "outputs": [],
   "source": [
    "sf_sectors['Sector'].value_counts()"
   ]
  },
  {
   "cell_type": "code",
   "execution_count": null,
   "metadata": {},
   "outputs": [],
   "source": [
    "from gensim.models.phrases import Phrases, Phraser\n",
    "jobD = [row.split() for row in sf_new['Skill description']]\n",
    "phrases = Phrases(jobD, min_count=10, progress_per=10000)\n",
    "bigram = Phraser(phrases)\n",
    "sentences = bigram[jobD]\n",
    "\n",
    "sf_new['bigrams'] = sentences"
   ]
  },
  {
   "cell_type": "code",
   "execution_count": null,
   "metadata": {},
   "outputs": [],
   "source": [
    "jobD = [row.split() for row in sf_new['Skill Title']]\n",
    "phrases = Phrases(jobD, min_count=10, progress_per=10000)\n",
    "bigram = Phraser(phrases)\n",
    "sentences = bigram[jobD]\n",
    "\n",
    "sf_new['bigrams_skills'] = sentences"
   ]
  },
  {
   "cell_type": "code",
   "execution_count": null,
   "metadata": {},
   "outputs": [],
   "source": [
    "from Portal import *\n",
    "# pd.set_option('display.width', 400)\n",
    "# pd.set_option('display.max_columns', 10)\n",
    "\n",
    "\n",
    "class CareersFuture(Portal):\n",
    "\n",
    "    def __init__(self, name):\n",
    "        super().__init__(name)\n",
    "\n",
    "    def read_data(self):\n",
    "        # Reads data\n",
    "        df = pd.read_csv('mycareerfuture2020-09-15.csv', error_bad_lines=False)\n",
    "        return df\n",
    "\n",
    "    def clean_data(self):\n",
    "        df = self.read_data()\n",
    "        # df = df[df['Job Description'].str.contains('value')]\n",
    "        df['Job Description'] = df['Job Description'].astype(str)\n",
    "        df['Job Description'] = df['Job Description'].apply(lambda x: self.strip_html_tags(x))\n",
    "\n",
    "        df['Industry'] = df['Industry'].astype(str)\n",
    "        df['Industry'] = df['Industry'].apply(lambda x: self.str_to_literal(x))\n",
    "\n",
    "        # df['Skills'] = df['Skills'].astype(str)\n",
    "\n",
    "        df['Job Experience Required (years)'] = df['Job Experience Required (years)'].astype(int)\n",
    "\n",
    "        df['Job Monthly Min Sal'] = df['Job Monthly Min Sal'].astype(int)\n",
    "        df['Job Monthly Max Sal'] = df['Job Monthly Max Sal'].astype(int)\n",
    "\n",
    "        return df\n",
    "\n",
    "    def str_to_literal(self, text):\n",
    "        try:\n",
    "            # ast.literal_eval function converts takes in a string and converts it into a dictionary\n",
    "            ls = super().str_to_literal(text)\n",
    "            industry = []\n",
    "            for i in ls:\n",
    "                industry.append(i['category'])\n",
    "            return industry\n",
    "        except:\n",
    "            pass\n",
    "\n",
    "careersfuture = CareersFuture(\"careersfuture\")\n"
   ]
  },
  {
   "cell_type": "code",
   "execution_count": null,
   "metadata": {},
   "outputs": [],
   "source": [
    "cf = pd.DataFrame(careersfuture.clean_data())\n",
    "cf['Industry_unlisted'] = cf['Industry'].apply(lambda x: ','.join(map(str, x)))\n",
    "cf['Skills'] = cf['Skills'].apply(lambda x: x.replace(\"'\", \"\") )\n",
    "cf['Skills_unlisted'] = cf['Skills'].apply(lambda x: x.replace('[','').replace(']',''))\n",
    "cf_model = cf[[\"Job Title\", \"Job Description\", \"Industry_unlisted\", \"Skills_unlisted\", \"Job Experience Required (years)\",\"Job Monthly Min Sal\", \"Job Monthly Max Sal\" ]]\n",
    "cf_model_IT = cf_model[cf_model['Industry_unlisted']==\"Information Technology\"]\n"
   ]
  },
  {
   "cell_type": "code",
   "execution_count": null,
   "metadata": {},
   "outputs": [],
   "source": [
    "cf"
   ]
  },
  {
   "cell_type": "code",
   "execution_count": null,
   "metadata": {},
   "outputs": [],
   "source": [
    "X_test = cf_model_IT['Job Description']"
   ]
  },
  {
   "cell_type": "code",
   "execution_count": null,
   "metadata": {},
   "outputs": [],
   "source": [
    "cf_model_IT.iloc[12]"
   ]
  },
  {
   "cell_type": "code",
   "execution_count": null,
   "metadata": {},
   "outputs": [],
   "source": [
    "sf_new['bigrams'] = sf_new['bigrams'].apply(lambda x: ','.join(map(str, x)))"
   ]
  },
  {
   "cell_type": "code",
   "execution_count": null,
   "metadata": {},
   "outputs": [],
   "source": [
    "sf_new['bigrams_skills'] = sf_new['bigrams_skills'].apply(lambda x: ','.join(map(str, x)))"
   ]
  },
  {
   "cell_type": "code",
   "execution_count": null,
   "metadata": {},
   "outputs": [],
   "source": [
    "vectorizer = TfidfVectorizer()\n",
    "X = vectorizer.fit_transform(sf_new[\"bigrams_skills\"])\n",
    "Y = vectorizer.transform(X_test)\n",
    "\n",
    "\n",
    "word_features = vectorizer.get_feature_names()\n",
    "word_features[100:200]"
   ]
  },
  {
   "cell_type": "code",
   "execution_count": null,
   "metadata": {},
   "outputs": [],
   "source": [
    "kmeans = KMeans(n_clusters = 20, n_init = 5, n_jobs = -1)\n",
    "kmeans.fit(X)"
   ]
  },
  {
   "cell_type": "code",
   "execution_count": null,
   "metadata": {},
   "outputs": [],
   "source": [
    "sf_new['Clusters'] = kmeans.labels_"
   ]
  },
  {
   "cell_type": "code",
   "execution_count": null,
   "metadata": {},
   "outputs": [],
   "source": [
    "sf_new"
   ]
  },
  {
   "cell_type": "code",
   "execution_count": null,
   "metadata": {},
   "outputs": [],
   "source": [
    "common_words = kmeans.cluster_centers_.argsort()[:,-1:-11:-1]\n",
    "for num, centroid in enumerate(common_words):\n",
    "    print(str(num) + ' : ' + ', '.join(word_features[word] for word in centroid))"
   ]
  },
  {
   "cell_type": "code",
   "execution_count": null,
   "metadata": {},
   "outputs": [],
   "source": [
    "import seaborn as sns\n",
    "\n",
    "clusters = sf_new[sf_new.Job_Role_Replaced.str.contains(\"health\")].groupby(['Clusters', 'Job_Role_Replaced']).size()\n",
    "fig2, ax2 = plt.subplots(figsize = (30, 15))\n",
    "sns.heatmap(clusters.unstack(level = 'Job_Role_Replaced'), ax = ax2, cmap = 'Reds')\n",
    "\n",
    "ax2.set_xlabel('Job_Role_Replaced', fontdict = {'weight': 'bold', 'size': 24})\n",
    "ax2.set_ylabel('Clusters', fontdict = {'weight': 'bold', 'size': 24})\n",
    "for label in ax2.get_xticklabels():\n",
    "    label.set_size(16)\n",
    "    label.set_weight(\"bold\")\n",
    "for label in ax2.get_yticklabels():\n",
    "    label.set_size(16)\n",
    "    label.set_weight(\"bold\")"
   ]
  },
  {
   "cell_type": "code",
   "execution_count": null,
   "metadata": {},
   "outputs": [],
   "source": [
    "import seaborn as sns\n",
    "\n",
    "clusters = sf_new[sf_new.Job_Role_Replaced.str.contains(\"air\")].groupby(['Clusters', 'Job_Role_Replaced']).size()\n",
    "fig2, ax2 = plt.subplots(figsize = (30, 15))\n",
    "sns.heatmap(clusters.unstack(level = 'Job_Role_Replaced'), ax = ax2, cmap = 'Reds')\n",
    "\n",
    "ax2.set_xlabel('Job_Role_Replaced', fontdict = {'weight': 'bold', 'size': 24})\n",
    "ax2.set_ylabel('Clusters', fontdict = {'weight': 'bold', 'size': 24})\n",
    "for label in ax2.get_xticklabels():\n",
    "    label.set_size(16)\n",
    "    label.set_weight(\"bold\")\n",
    "for label in ax2.get_yticklabels():\n",
    "    label.set_size(16)\n",
    "    label.set_weight(\"bold\")"
   ]
  },
  {
   "cell_type": "code",
   "execution_count": null,
   "metadata": {},
   "outputs": [],
   "source": [
    "sf_new.Clusters.value_counts()"
   ]
  },
  {
   "cell_type": "code",
   "execution_count": null,
   "metadata": {},
   "outputs": [],
   "source": [
    "sf_new.to_csv(\"sf_clusters.csv\")"
   ]
  },
  {
   "cell_type": "code",
   "execution_count": null,
   "metadata": {},
   "outputs": [],
   "source": [
    "X_train_sf, X_test_sf, y_train_sf, y_test_sf = train_test_split(sf_new['Skill description'], \n",
    "                                                    sf_new['Clusters'], \n",
    "                                                    test_size = .3, \n",
    "                                                    shuffle = True, \n",
    "                                                    stratify = sf_new['Clusters'], \n",
    "                                                    random_state = 3)"
   ]
  },
  {
   "cell_type": "code",
   "execution_count": null,
   "metadata": {},
   "outputs": [],
   "source": [
    "logreg = Pipeline([('vect', CountVectorizer()),\n",
    "                ('tfidf', TfidfTransformer()),\n",
    "                ('clf', LogisticRegression(n_jobs=1, C=1e5)),\n",
    "                \n",
    "               ])\n",
    "logreg.fit(X_train_sf, y_train_sf)\n",
    "\n",
    "\n",
    "y_pred = logreg.predict(X_test_sf)"
   ]
  },
  {
   "cell_type": "code",
   "execution_count": null,
   "metadata": {},
   "outputs": [],
   "source": [
    "accuracy_score(y_test_sf, y_pred)"
   ]
  },
  {
   "cell_type": "code",
   "execution_count": null,
   "metadata": {},
   "outputs": [],
   "source": [
    "logreg = Pipeline([('vect', CountVectorizer()),\n",
    "                ('tfidf', TfidfTransformer()),\n",
    "                ('clf', LogisticRegression(n_jobs=1, C=1e5)),\n",
    "                \n",
    "               ])\n",
    "logreg.fit(sf_new['Skill description'], sf_new['Clusters'])\n",
    "\n",
    "\n",
    "y_pred = logreg.predict(cf_model_IT['Job Description'])"
   ]
  },
  {
   "cell_type": "code",
   "execution_count": null,
   "metadata": {},
   "outputs": [],
   "source": [
    "pd.Series(y_pred).value_counts()"
   ]
  },
  {
   "cell_type": "code",
   "execution_count": null,
   "metadata": {},
   "outputs": [],
   "source": [
    "pd.Series(kmeans.predict(Y)).value_counts()"
   ]
  },
  {
   "cell_type": "code",
   "execution_count": null,
   "metadata": {},
   "outputs": [],
   "source": [
    "cf_model_IT.iloc[6]"
   ]
  },
  {
   "cell_type": "code",
   "execution_count": null,
   "metadata": {},
   "outputs": [],
   "source": [
    "cf_model_IT.iloc[6]['Job Description']"
   ]
  },
  {
   "cell_type": "code",
   "execution_count": null,
   "metadata": {},
   "outputs": [],
   "source": [
    "kmeans.predict(Y[6])"
   ]
  },
  {
   "cell_type": "code",
   "execution_count": null,
   "metadata": {},
   "outputs": [],
   "source": [
    "logreg.predict(pd.Series(cf_model_IT.iloc[6]['Job Description']))"
   ]
  },
  {
   "cell_type": "code",
   "execution_count": null,
   "metadata": {},
   "outputs": [],
   "source": [
    "sf_new[sf_new['Job_Role_Replaced']=='ui design']"
   ]
  },
  {
   "cell_type": "markdown",
   "metadata": {},
   "source": [
    "the kmeans and log reg predict wrongly! \n",
    "For software development/IT, it should come under cluster 13 (eyeballing the clusters above)\n",
    "13 : business, data, management, security, performance, processes, stakeholders, cyber, requirements, network"
   ]
  },
  {
   "cell_type": "code",
   "execution_count": null,
   "metadata": {},
   "outputs": [],
   "source": [
    "sf_new[sf_new.Clusters==7]['Job_Role_Replaced'].unique()"
   ]
  },
  {
   "cell_type": "code",
   "execution_count": null,
   "metadata": {},
   "outputs": [],
   "source": [
    "documents = sf_new[sf_new.Clusters == 7]['Skill description']"
   ]
  },
  {
   "cell_type": "code",
   "execution_count": null,
   "metadata": {},
   "outputs": [],
   "source": [
    "dictionary = corpora.Dictionary([simple_preprocess(doc) for doc in documents])\n",
    "\n",
    "# Prepare the similarity matrix\n",
    "similarity_matrix = fasttext_model300.similarity_matrix(dictionary, tfidf=None, threshold=0.0, exponent=2.0, nonzero_limit=100)\n",
    "\n",
    "# Convert the sentences into bag-of-words vectors.\n",
    "\n",
    "sentences = [dictionary.doc2bow(simple_preprocess(sent)) for sent in documents]\n",
    "\n"
   ]
  },
  {
   "cell_type": "code",
   "execution_count": null,
   "metadata": {},
   "outputs": [],
   "source": [
    "jd_1 = dictionary.doc2bow(simple_preprocess(X_test.iloc[6]))"
   ]
  },
  {
   "cell_type": "code",
   "execution_count": null,
   "metadata": {},
   "outputs": [],
   "source": [
    "maximum = 0\n",
    "index = 0\n",
    "second_maximum = 0\n",
    "second_index = 0\n",
    "for i in range(len(sentences)):\n",
    "\n",
    "    if softcossim(jd_1, sentences[i], similarity_matrix)> maximum:\n",
    "        second_maximum = maximum\n",
    "        second_index = index\n",
    "        maximum = softcossim(jd_1, sentences[i], similarity_matrix)\n",
    "        index = i\n",
    "        \n",
    "    \n",
    "print(maximum)\n",
    "print(index)\n",
    "    \n",
    "print(second_maximum)\n",
    "print(second_index)"
   ]
  },
  {
   "cell_type": "code",
   "execution_count": null,
   "metadata": {},
   "outputs": [],
   "source": [
    "sf_new[sf_new.Clusters == 7].iloc[115]['Job_Role_Replaced']"
   ]
  },
  {
   "cell_type": "code",
   "execution_count": null,
   "metadata": {},
   "outputs": [],
   "source": [
    "sf_new[sf_new.Clusters == 7].iloc[56]['Job_Role_Replaced']"
   ]
  },
  {
   "cell_type": "code",
   "execution_count": null,
   "metadata": {},
   "outputs": [],
   "source": [
    "sf_new[sf_new.Clusters == 7].iloc[49]['Skill description']"
   ]
  },
  {
   "cell_type": "code",
   "execution_count": null,
   "metadata": {},
   "outputs": [],
   "source": [
    "logreg = Pipeline([('vect', CountVectorizer(stopwords='english', max_df = 0.5)),\n",
    "                ('tfidf', TfidfTransformer()),\n",
    "                ('clf', RandomForestClassifier()),\n",
    "                \n",
    "               ])\n",
    "logreg.fit(sf_new[sf_new.Clusters == 13]['Skill description'], sf_new[sf_new.Clusters == 13]['Job_Role_Replaced'])\n",
    "\n",
    "\n",
    "y_pred = logreg.predict(pd.Series(cf_model_IT.iloc[6]['Job Description']))\n",
    "y_pred"
   ]
  },
  {
   "cell_type": "markdown",
   "metadata": {},
   "source": [
    "Others"
   ]
  },
  {
   "cell_type": "code",
   "execution_count": null,
   "metadata": {},
   "outputs": [],
   "source": [
    "from collections import Counter\n",
    "from sklearn.feature_extraction.text import CountVectorizer\n",
    "from sklearn.metrics.pairwise import cosine_similarity\n",
    "def get_cosine_sim(*strs): \n",
    "    vectors = [t for t in get_vectors(*strs)]\n",
    "    return cosine_similarity(vectors)\n",
    "    \n",
    "def get_vectors(*strs):\n",
    "    text = [t for t in strs]\n",
    "    vectorizer = CountVectorizer(text)\n",
    "    vectorizer.fit(text)\n",
    "    return vectorizer.transform(text).toarray()"
   ]
  },
  {
   "cell_type": "code",
   "execution_count": null,
   "metadata": {},
   "outputs": [],
   "source": [
    "pd.Series([x.strip(' ') for x in sf_model_IT[sf_model_IT['cluster']==3]['Job_Role_Replaced']]).unique()"
   ]
  },
  {
   "cell_type": "markdown",
   "metadata": {},
   "source": [
    "Unnecessay stuff"
   ]
  },
  {
   "cell_type": "code",
   "execution_count": null,
   "metadata": {},
   "outputs": [],
   "source": [
    "number_clusters = range(1, 20)\n",
    "\n",
    "kmeans = [KMeans(n_clusters=i, max_iter = 600) for i in number_clusters]\n",
    "kmeans\n",
    "\n",
    "score = [kmeans[i].fit(Y_sklearn).score(Y_sklearn) for i in range(len(kmeans))]\n",
    "score\n",
    "\n",
    "plt.plot(number_clusters, score)\n",
    "plt.xlabel('Number of Clusters')\n",
    "plt.ylabel('Score')\n",
    "plt.title('Elbow Method')\n",
    "plt.show()"
   ]
  },
  {
   "cell_type": "code",
   "execution_count": null,
   "metadata": {},
   "outputs": [],
   "source": [
    "results1 = pd.concat([pd.Series(X_test_sf).reset_index(), pd.Series(y_test_sf).reset_index(), pd.Series(y_pred).reset_index()], axis = 1)"
   ]
  }
 ],
 "metadata": {
  "kernelspec": {
   "display_name": "Python 3",
   "language": "python",
   "name": "python3"
  },
  "language_info": {
   "codemirror_mode": {
    "name": "ipython",
    "version": 3
   },
   "file_extension": ".py",
   "mimetype": "text/x-python",
   "name": "python",
   "nbconvert_exporter": "python",
   "pygments_lexer": "ipython3",
   "version": "3.8.5"
  }
 },
 "nbformat": 4,
 "nbformat_minor": 4
}
